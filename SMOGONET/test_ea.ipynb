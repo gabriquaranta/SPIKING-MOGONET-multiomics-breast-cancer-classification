{
 "cells": [
  {
   "cell_type": "code",
   "execution_count": 1,
   "metadata": {},
   "outputs": [],
   "source": [
    "import random\n",
    "import json\n",
    "\n",
    "import torch\n",
    "import torch.nn as nn\n",
    "import torch.optim as optim\n",
    "import matplotlib.pyplot as plt\n",
    "import numpy as np\n",
    "\n",
    "from torch.optim.lr_scheduler import StepLR\n",
    "from snntorch import spikegen\n",
    "from sklearn.metrics import f1_score\n",
    "\n",
    "from smogoutils import get_all_data_adj, compute_spiking_node_representation as csnr\n",
    "from smogomodels import SMOGOGCN,SMOGOVCDN\n",
    "from smogotrain import pretrain, smogotrain, smogotest, smogotrain_v2,smogotest_v2, check_convergence"
   ]
  },
  {
   "cell_type": "code",
   "execution_count": 2,
   "metadata": {},
   "outputs": [
    {
     "name": "stdout",
     "output_type": "stream",
     "text": [
      "device:  cpu\n"
     ]
    },
    {
     "name": "stderr",
     "output_type": "stream",
     "text": [
      "/Users/gabriquaranta/repos/mla-prj-24-mla24-prj19-gu1/.env/lib/python3.9/site-packages/torch/__init__.py:747: UserWarning: torch.set_default_tensor_type() is deprecated as of PyTorch 2.1, please use torch.set_default_dtype() and torch.set_default_device() as alternatives. (Triggered internally at /Users/runner/work/pytorch/pytorch/pytorch/torch/csrc/tensor/python_tensor.cpp:433.)\n",
      "  _C._set_default_tensor_type(t)\n"
     ]
    }
   ],
   "source": [
    "device = torch.device(\"cuda\" if torch.cuda.is_available() else \"cpu\")\n",
    "print(\"device: \",device)\n",
    "\n",
    "if device == \"cuda\":\n",
    "    torch.set_default_tensor_type(torch.cuda.FloatTensor)\n",
    "    torch.set_default_device(\"cuda\")\n",
    "else:\n",
    "    torch.set_default_tensor_type(torch.FloatTensor)\n",
    "    torch.set_default_device(\"cpu\")"
   ]
  },
  {
   "cell_type": "code",
   "execution_count": 3,
   "metadata": {},
   "outputs": [
    {
     "name": "stderr",
     "output_type": "stream",
     "text": [
      "/Users/gabriquaranta/repos/mla-prj-24-mla24-prj19-gu1/SMOGONET/smogoutils.py:120: UserWarning: torch.sparse.SparseTensor(indices, values, shape, *, device=) is deprecated.  Please use torch.sparse_coo_tensor(indices, values, shape, dtype=, device=). (Triggered internally at /Users/runner/work/pytorch/pytorch/pytorch/torch/csrc/utils/tensor_new.cpp:623.)\n",
      "  return sparse_tensortype(indices, values, x.size())\n"
     ]
    }
   ],
   "source": [
    "data_folder = \"BRCA\"\n",
    "view_list = [1, 2, 3]\n",
    "num_view=3\n",
    "num_class = 5\n",
    "\n",
    "(\n",
    "    data_tr_list,\n",
    "    data_trte_list,\n",
    "    trte_idx,\n",
    "    labels_trte,\n",
    "    labels_tr_tensor,\n",
    "    onehot_labels_tr_tensor,\n",
    "    adj_tr_list,\n",
    "    adj_te_list,\n",
    "    dim_list,\n",
    ") = get_all_data_adj(\n",
    "    data_folder,\n",
    "    view_list,\n",
    "    num_class,\n",
    ")"
   ]
  },
  {
   "cell_type": "code",
   "execution_count": 4,
   "metadata": {},
   "outputs": [
    {
     "name": "stdout",
     "output_type": "stream",
     "text": [
      "torch.Size([100, 612, 1000]) torch.Size([100, 612, 1000]) torch.Size([100, 612, 503])\n",
      "torch.Size([100, 875, 1000]) torch.Size([100, 875, 1000]) torch.Size([100, 875, 503])\n",
      "torch.Size([612]) torch.Size([875]) torch.Size([263])\n"
     ]
    }
   ],
   "source": [
    "K = 3\n",
    "num_steps = 100\n",
    "\n",
    "enc_function = 'rate'\n",
    "# enc_function = 'latency'\n",
    "\n",
    "H_tr_v1 = csnr(data_tr_list[0], adj_tr_list[0], K, num_steps, enc_function).to(device)\n",
    "H_tr_v2 = csnr(data_tr_list[1], adj_tr_list[1], K, num_steps, enc_function).to(device)\n",
    "H_tr_v3 = csnr(data_tr_list[2], adj_tr_list[2], K, num_steps, enc_function).to(device)\n",
    "\n",
    "H_trte_v1 = csnr(data_trte_list[0], adj_te_list[0], K, num_steps, enc_function).to(device)\n",
    "H_trte_v2 = csnr(data_trte_list[1], adj_te_list[1], K, num_steps, enc_function).to(device)\n",
    "H_trte_v3 = csnr(data_trte_list[2], adj_te_list[2], K, num_steps, enc_function).to(device)\n",
    "\n",
    "H_te_v1=H_trte_v1\n",
    "H_te_v2=H_trte_v2\n",
    "H_te_v3=H_trte_v3\n",
    "\n",
    "labels_tr=labels_tr_tensor.to(device)\n",
    "labels_trte_tensor = torch.tensor(labels_trte).to(device)\n",
    "labels_te=labels_trte_tensor[trte_idx['te']].to(device)\n",
    "\n",
    "print(H_tr_v1.shape, H_tr_v2.shape, H_tr_v3.shape)\n",
    "print(H_trte_v1.shape, H_trte_v2.shape, H_trte_v3.shape)\n",
    "print(labels_tr.shape, labels_trte_tensor.shape, labels_te.shape)"
   ]
  },
  {
   "cell_type": "code",
   "execution_count": 5,
   "metadata": {},
   "outputs": [],
   "source": [
    "dim_list = [H_tr_v1.shape, H_tr_v2.shape, H_tr_v3.shape]"
   ]
  },
  {
   "cell_type": "markdown",
   "metadata": {},
   "source": [
    "# RANDOM GENERATION"
   ]
  },
  {
   "cell_type": "code",
   "execution_count": 6,
   "metadata": {},
   "outputs": [],
   "source": [
    "# betas= [0.4,0.5,0.7,0.9]\n",
    "# hidden_sizes= [30,40,50,60,70]\n",
    "# starting_lrs= [0.1,0.01,0.001]\n",
    "# step_sizes= [10,15,20,25,30]\n",
    "# gammas= [0.2,0.4,0.5,0.6,0.8]"
   ]
  },
  {
   "cell_type": "code",
   "execution_count": 7,
   "metadata": {},
   "outputs": [],
   "source": [
    "betas = np.linspace(0.2, 0.99, 10)\n",
    "hidden_sizes = [int(i) for i in np.linspace(30, 80, 10)]\n",
    "starting_lrs = np.linspace(0.1, 0.001, 10)\n",
    "step_sizes = [int(i) for i in np.linspace(10, 30, 10)]\n",
    "gammas = np.linspace(0.2, 0.8, 10)"
   ]
  },
  {
   "cell_type": "code",
   "execution_count": 8,
   "metadata": {},
   "outputs": [],
   "source": [
    "def random_individual():\n",
    "    ind={}\n",
    "    ind['sgcn1']=[\n",
    "        random.choice(betas),\n",
    "        random.choice(betas),\n",
    "        random.choice(hidden_sizes),\n",
    "        random.choice(starting_lrs),\n",
    "        random.choice(step_sizes),\n",
    "        random.choice(gammas),\n",
    "    ]\n",
    "    ind['sgcn2']=[\n",
    "        random.choice(betas),\n",
    "        random.choice(betas),\n",
    "        random.choice(hidden_sizes),\n",
    "        random.choice(starting_lrs),\n",
    "        random.choice(step_sizes),\n",
    "        random.choice(gammas),\n",
    "    ]\n",
    "    ind['sgcn3']=[\n",
    "        random.choice(betas),\n",
    "        random.choice(betas),\n",
    "        random.choice(hidden_sizes),\n",
    "        random.choice(starting_lrs),\n",
    "        random.choice(step_sizes),\n",
    "        random.choice(gammas),\n",
    "    ]\n",
    "    ind['vcdn']=[\n",
    "        random.choice(betas),\n",
    "        random.choice(betas),\n",
    "        random.choice(hidden_sizes),\n",
    "        random.choice(starting_lrs),\n",
    "        random.choice(step_sizes),\n",
    "        random.choice(gammas),\n",
    "    ]\n",
    "\n",
    "    return ind"
   ]
  },
  {
   "cell_type": "code",
   "execution_count": 9,
   "metadata": {},
   "outputs": [],
   "source": [
    "def models_from_ind_dict(ind_dict):\n",
    "    sgcn1 = SMOGOGCN(\n",
    "        input_size=dim_list[0][2], hidden_size=50, output_size=num_class, beta1=ind_dict['sgcn1'][0], beta2=ind_dict['sgcn1'][1]\n",
    "        ).to(device)\n",
    "    sgcn2 = SMOGOGCN(\n",
    "        input_size=dim_list[1][2], hidden_size=50, output_size=num_class, beta1=ind_dict['sgcn2'][0], beta2=ind_dict['sgcn2'][1]\n",
    "        ).to(device)\n",
    "    sgcn3 = SMOGOGCN(\n",
    "        input_size=dim_list[2][2], hidden_size=50, output_size=num_class, beta1=ind_dict['sgcn3'][0], beta2=ind_dict['sgcn3'][1]\n",
    "        ).to(device)\n",
    "    vcdn = SMOGOVCDN(\n",
    "        input_size=125, hidden_size=ind_dict['vcdn'][2], output_size=num_class, beta1=ind_dict['vcdn'][0], beta2=ind_dict['vcdn'][1]\n",
    "        ).to(device)\n",
    "    \n",
    "    return [sgcn1, sgcn2, sgcn3, vcdn]"
   ]
  },
  {
   "cell_type": "code",
   "execution_count": 10,
   "metadata": {},
   "outputs": [],
   "source": [
    "def optim_scheduler_from_ind_dict(ind_dict,models_list):\n",
    "    optim1 = optim.Adam(models_list[0].parameters(), lr=ind_dict['sgcn1'][3])\n",
    "    optim2 = optim.Adam(models_list[1].parameters(), lr=ind_dict['sgcn2'][3])\n",
    "    optim3 = optim.Adam(models_list[2].parameters(), lr=ind_dict['sgcn3'][3])\n",
    "    optim4 = optim.Adam(models_list[3].parameters(), lr=ind_dict['vcdn'][3])\n",
    "\n",
    "    scheduler1 = StepLR(optim1, step_size=ind_dict['sgcn1'][4], gamma=ind_dict['sgcn1'][5])\n",
    "    scheduler2 = StepLR(optim2, step_size=ind_dict['sgcn2'][4], gamma=ind_dict['sgcn2'][5])\n",
    "    scheduler3 = StepLR(optim3, step_size=ind_dict['sgcn3'][4], gamma=ind_dict['sgcn3'][5])\n",
    "    scheduler4 = StepLR(optim4, step_size=ind_dict['vcdn'][4], gamma=ind_dict['vcdn'][5])\n",
    "\n",
    "    return [\n",
    "        optim1,optim2,optim3,optim4],[scheduler1,scheduler2,scheduler3,scheduler4\n",
    "    ]\n"
   ]
  },
  {
   "cell_type": "markdown",
   "metadata": {},
   "source": [
    "# RANDOM TRAINING TESTING"
   ]
  },
  {
   "cell_type": "code",
   "execution_count": 11,
   "metadata": {},
   "outputs": [],
   "source": [
    "\n",
    "# random_dict=random_individual()\n",
    "# models= models_from_ind_dict(random_dict)\n",
    "# optims, schedulers= optim_scheduler_from_ind_dict(random_dict,models)\n",
    "\n",
    "# # pretrain\n",
    "# epochs_pretrain=60\n",
    "# l1=pretrain(models[0], H_tr_v1, labels_tr, epochs_pretrain, random_dict['sgcn1'][1])\n",
    "# l2=pretrain(models[1], H_tr_v2, labels_tr, epochs_pretrain, random_dict['sgcn2'][1])\n",
    "# l3=pretrain(models[2], H_tr_v3, labels_tr, epochs_pretrain, random_dict['sgcn3'][1])\n",
    "\n",
    "# # train\n",
    "# num_epochs = 500\n",
    "# H_trs = [H_tr_v1, H_tr_v2, H_tr_v3]\n",
    "\n",
    "# losses = smogotrain(\n",
    "#     models,\n",
    "#     H_trs,\n",
    "#     labels_tr,\n",
    "#     opt_list=optims,\n",
    "#     sched_list=schedulers,\n",
    "#     num_epochs=num_epochs,\n",
    "# )\n",
    "\n",
    "# # testing\n",
    "# idx_te = trte_idx['te']\n",
    "# H_te_list = [H_te_v1, H_te_v2, H_te_v3]\n",
    "\n",
    "# a = smogotest(models, H_te_list, labels_trte_tensor, labels_te, idx_te)\n",
    "\n",
    "\n",
    "# print(json.dumps(random_dict, indent=4))"
   ]
  },
  {
   "cell_type": "markdown",
   "metadata": {},
   "source": [
    "# FITNESS"
   ]
  },
  {
   "cell_type": "code",
   "execution_count": 12,
   "metadata": {},
   "outputs": [],
   "source": [
    "def fitness(ind_dict,epoch_pre=100,epoch_tr=500,printing=False,saving=False):\n",
    "    models= models_from_ind_dict(ind_dict)\n",
    "    optims, schedulers= optim_scheduler_from_ind_dict(ind_dict,models)\n",
    "\n",
    "    idx_te = trte_idx['te']\n",
    "    H_trs = [H_tr_v1, H_tr_v2, H_tr_v3]\n",
    "    H_te_list = [H_te_v1, H_te_v2, H_te_v3]\n",
    "\n",
    "    if printing: print(\"\\npretraining\")\n",
    "    l1=pretrain(models[0], H_tr_v1, labels_tr, epoch_pre, ind_dict['sgcn1'][1],printing=printing)\n",
    "    l2=pretrain(models[1], H_tr_v2, labels_tr, epoch_pre, ind_dict['sgcn2'][1],printing=printing)\n",
    "    l3=pretrain(models[2], H_tr_v3, labels_tr, epoch_pre, ind_dict['sgcn3'][1],printing=printing)\n",
    "\n",
    "    if printing: print(\"\\ntraining\")\n",
    "    losses=smogotrain_v2(models,H_trs,labels_tr,opt_list=optims,sched_list=schedulers,num_epochs=epoch_tr,printing=printing,l2_lambda=0.0)\n",
    "\n",
    "    if printing: print(\"\\ntesting\")\n",
    "    a = smogotest_v2(models, H_te_list, labels_trte_tensor, labels_te, idx_te,printing=printing)\n",
    "\n",
    "    if saving:\n",
    "        torch.save(models[0].state_dict(), f\"models/ea_sgcn1.pth\")\n",
    "        torch.save(models[1].state_dict(), f\"models/ea_sgcn2.pth\")\n",
    "        torch.save(models[2].state_dict(), f\"models/ea_sgcn3.pth\")\n",
    "        torch.save(models[3].state_dict(), f\"models/ea_svcdn.pth\")\n",
    "\n",
    "    return a   \n",
    "    "
   ]
  },
  {
   "cell_type": "code",
   "execution_count": 13,
   "metadata": {},
   "outputs": [],
   "source": [
    "# pop_size=3\n",
    "# pop=[random_individual() for i in range(pop_size)]\n",
    "\n",
    "# print([fitness(p) for p in pop])\n",
    "# # 20 mins cpu"
   ]
  },
  {
   "cell_type": "markdown",
   "metadata": {},
   "source": [
    "# MUTATION"
   ]
  },
  {
   "cell_type": "code",
   "execution_count": 14,
   "metadata": {},
   "outputs": [],
   "source": [
    "def mutate(ind_dict_original):\n",
    "    \"\"\"\n",
    "    possible mutations:\n",
    "    - sgcns x3: beta, lr pre, lr tr, step_size, gamma\n",
    "    - vcdn: beta1, beta2, hidden_size, lr, step_size, gamma\n",
    "    \"\"\"\n",
    "    models_to_mutate = ['sgcn1','sgcn2','sgcn3','vcdn']\n",
    "    model_to_mutate = random.choice(models_to_mutate)\n",
    "\n",
    "    ind_dict=ind_dict_original.copy()\n",
    "\n",
    "    if model_to_mutate=='vcdn':\n",
    "        # mutate one of the fields\n",
    "        field_to_mutate = random.choice([0,1,2,3,4,5])\n",
    "        if field_to_mutate==0:\n",
    "            ind_dict['vcdn'][0]=random.choice(betas)\n",
    "        elif field_to_mutate==1:\n",
    "            ind_dict['vcdn'][1]=random.choice(betas)\n",
    "        elif field_to_mutate==2:\n",
    "            ind_dict['vcdn'][2]=random.choice(hidden_sizes)\n",
    "        elif field_to_mutate==3:\n",
    "            ind_dict['vcdn'][3]=random.choice(starting_lrs)\n",
    "        elif field_to_mutate==4:\n",
    "            ind_dict['vcdn'][4]=random.choice(step_sizes)\n",
    "        elif field_to_mutate==5:\n",
    "            ind_dict['vcdn'][5]=random.choice(gammas)\n",
    "    else:\n",
    "        # mutate one of the fields\n",
    "        field_to_mutate = random.choice([0,1,2,3,4])\n",
    "        if field_to_mutate==0:\n",
    "            ind_dict[model_to_mutate][0]=random.choice(betas)\n",
    "        elif field_to_mutate==1:\n",
    "            ind_dict[model_to_mutate][1]=random.choice(starting_lrs)\n",
    "        elif field_to_mutate==2:\n",
    "            ind_dict[model_to_mutate][2]=random.choice(starting_lrs)\n",
    "        elif field_to_mutate==3:\n",
    "            ind_dict[model_to_mutate][3]=random.choice(step_sizes)\n",
    "        elif field_to_mutate==4:\n",
    "            ind_dict[model_to_mutate][4]=random.choice(gammas)\n",
    "\n",
    "    return ind_dict"
   ]
  },
  {
   "cell_type": "markdown",
   "metadata": {},
   "source": [
    "# CROSSOVER"
   ]
  },
  {
   "cell_type": "code",
   "execution_count": 15,
   "metadata": {},
   "outputs": [],
   "source": [
    "def xover(ind_dict_1,ind_dict_2):\n",
    "    xover_point = random.choice([0,1,2])\n",
    "    ind1=ind_dict_1.copy()\n",
    "    ind2=ind_dict_2.copy()\n",
    "\n",
    "    if xover_point==0:\n",
    "        ind1['sgcn1']=ind_dict_2['sgcn1']\n",
    "        ind2['sgcn1']=ind_dict_1['sgcn1']\n",
    "    elif xover_point==1:\n",
    "        ind1['sgcn1']=ind_dict_2['sgcn1']\n",
    "        ind2['sgcn1']=ind_dict_1['sgcn1']\n",
    "        ind1['sgcn2']=ind_dict_2['sgcn2']\n",
    "        ind2['sgcn2']=ind_dict_1['sgcn2']\n",
    "    elif xover_point==2:\n",
    "        ind1['vcdn']=ind_dict_2['vcdn']\n",
    "        ind2['vcdn']=ind_dict_1['vcdn']\n",
    "\n",
    "    return ind1,ind2"
   ]
  },
  {
   "cell_type": "markdown",
   "metadata": {},
   "source": [
    "# EA"
   ]
  },
  {
   "cell_type": "code",
   "execution_count": 16,
   "metadata": {},
   "outputs": [],
   "source": [
    "# def check_convergence(values, window_size=5, min_gradient=0.001):\n",
    "#     \"\"\"\n",
    "#     the min_gradient of 0.001 can be interpreted as follows:\n",
    "\n",
    "#     - Meaning: The gradient represents the rate of change of the values over the\n",
    "#     specified window. A gradient of 0.001 means that, on average, the value is\n",
    "#     changing by 0.001 units per step within the window. \n",
    "    \n",
    "#     - Direction: In the context of loss values in machine learning, a negative\n",
    "#     gradient is typically expected (as loss should decrease). A gradient greater\n",
    "#     than -0.001 (i.e., closer to zero or positive) suggests the loss is no\n",
    "#     longer significantly decreasing.\n",
    "#     \"\"\"\n",
    "#     if len(values) < window_size + 1:\n",
    "#         return False\n",
    "    \n",
    "#     recent_values = values[-window_size:]\n",
    "#     x = np.arange(window_size)\n",
    "#     y = np.array(recent_values)\n",
    "#     gradient, _ = np.polyfit(x, y, 1)\n",
    "    \n",
    "#     return abs(gradient) < min_gradient"
   ]
  },
  {
   "cell_type": "code",
   "execution_count": 17,
   "metadata": {},
   "outputs": [
    {
     "name": "stdout",
     "output_type": "stream",
     "text": [
      "\n",
      "Generation:  0\n",
      " Fitnesses:  [0.596958174904943, 0.44106463878326985, 0.5399239543726235, 0.5551330798479086, 0.5513307984790875, 0.5931558935361217, 0.5855513307984791, 0.634980988593156]\n",
      " Best fitness:  0.634980988593156\n",
      " Average fitness:  0.5622623574144486\n",
      "\n",
      "Generation:  1\n",
      " Fitnesses:  [0.6425855513307984, 0.520912547528517, 0.5817490494296579, 0.520912547528517, 0.4752851711026616, 0.7300380228136882, 0.5133079847908746, 0.6159695817490495]\n",
      " Best fitness:  0.7300380228136882\n",
      " Average fitness:  0.5750950570342206\n",
      "\n",
      "Generation:  2\n",
      " Fitnesses:  [0.5817490494296579, 0.6387832699619772, 0.6577946768060837, 0.7110266159695816, 0.6083650190114068, 0.634980988593156, 0.6083650190114068, 0.7072243346007605]\n",
      " Best fitness:  0.7110266159695816\n",
      " Average fitness:  0.6435361216730038\n",
      "\n",
      "Generation:  3\n",
      " Fitnesses:  [0.7490494296577948, 0.5285171102661597, 0.5665399239543725, 0.6387832699619772, 0.6273764258555133, 0.5893536121673005, 0.570342205323194, 0.5475285171102663]\n",
      " Best fitness:  0.7490494296577948\n",
      " Average fitness:  0.6021863117870723\n",
      "\n",
      "Generation:  4\n",
      " Fitnesses:  [0.7148288973384032, 0.7110266159695816, 0.7490494296577948, 0.7832699619771865, 0.7566539923954372, 0.634980988593156, 0.5665399239543725, 0.6121673003802283]\n",
      " Best fitness:  0.7832699619771865\n",
      " Average fitness:  0.6910646387832701\n",
      "\n",
      "Generation:  5\n",
      " Fitnesses:  [0.6159695817490495, 0.6235741444866921, 0.5931558935361217, 0.5855513307984791, 0.570342205323194, 0.6197718631178707, 0.6996197718631177, 0.6844106463878327]\n",
      " Best fitness:  0.6996197718631177\n",
      " Average fitness:  0.6240494296577948\n",
      "\n",
      "Generation:  6\n",
      " Fitnesses:  [0.7072243346007605, 0.5855513307984791, 0.570342205323194, 0.7148288973384032, 0.596958174904943, 0.6730038022813688, 0.6159695817490495, 0.6235741444866921]\n",
      " Best fitness:  0.7148288973384032\n",
      " Average fitness:  0.6359315589353614\n",
      "\n",
      "Generation:  7\n",
      " Fitnesses:  [0.570342205323194, 0.5855513307984791, 0.6083650190114068, 0.7186311787072244, 0.6958174904942965, 0.726235741444867, 0.7300380228136882, 0.6387832699619772]\n",
      " Best fitness:  0.7300380228136882\n",
      " Average fitness:  0.6592205323193917\n",
      "\n",
      "Generation:  8\n",
      " Fitnesses:  [0.6121673003802283, 0.6920152091254754, 0.5589353612167302, 0.6083650190114068, 0.634980988593156, 0.5513307984790875, 0.6121673003802283, 0.634980988593156]\n",
      " Best fitness:  0.6920152091254754\n",
      " Average fitness:  0.6131178707224336\n",
      "\n",
      "Generation:  9\n",
      " Fitnesses:  [0.6730038022813688, 0.6577946768060837, 0.6615969581749049, 0.6197718631178707, 0.6425855513307984, 0.6311787072243346, 0.6159695817490495, 0.6692015209125476]\n",
      " Best fitness:  0.6730038022813688\n",
      " Average fitness:  0.6463878326996197\n",
      "\n",
      "\n",
      "Best individual final generation:  {'sgcn1': [0.2, 0.056, 41, 0.056, 27, 0.2], 'sgcn2': [0.2, 0.034, 52, 0.011999999999999997, 21, 0.6000000000000001], 'sgcn3': [0.4633333333333334, 0.022999999999999993, 68, 0.08900000000000001, 16, 0.6000000000000001], 'vcdn': [0.3755555555555556, 0.2, 74, 0.056, 12, 0.8]}\n",
      "Best fitness final generation:  0.6730038022813688\n",
      "\n",
      "Best individual overall:  {'sgcn1': [0.2, 0.056, 41, 0.056, 27, 0.2], 'sgcn2': [0.2, 0.034, 52, 0.011999999999999997, 21, 0.6000000000000001], 'sgcn3': [0.4633333333333334, 0.022999999999999993, 68, 0.08900000000000001, 16, 0.6000000000000001], 'vcdn': [0.3755555555555556, 0.2, 74, 0.056, 12, 0.8]}\n",
      "Best fitness overall:  0.7832699619771865\n"
     ]
    }
   ],
   "source": [
    "POP_SIZE = 8\n",
    "NUM_GENS = 10\n",
    "NUM_PARENTS_BEST = 2\n",
    "EPOCH_PRE = 2\n",
    "EPOCH_TR = 5\n",
    "MUTATION_RATE=0.2\n",
    "\n",
    "# POP_SIZE=20\n",
    "# NUM_GENS=100\n",
    "# NUM_PARENTS_BEST=5\n",
    "# EPOCH_PRE = 20\n",
    "# EPOCH_TR = 80\n",
    "# MUTATION_RATE=0.2\n",
    "\n",
    "all_fitnesses=[]\n",
    "best=None\n",
    "best_fitness=0\n",
    "\n",
    "pop = [random_individual() for i in range(POP_SIZE)]\n",
    "\n",
    "for gen in range(NUM_GENS):\n",
    "    print(\"\\nGeneration: \", gen)\n",
    "\n",
    "    # fitnesses=[fitness(p) for p in pop]\n",
    "    fitnesses = [fitness(p, epoch_pre=EPOCH_PRE, epoch_tr=EPOCH_TR) for p in pop]  # for testing algo\n",
    "    print(\" Fitnesses: \", fitnesses)\n",
    "    print(\" Best fitness: \", max(fitnesses))\n",
    "    print(\" Average fitness: \", sum(fitnesses) / len(fitnesses))\n",
    "    all_fitnesses.append(fitnesses)\n",
    "\n",
    "    if gen == NUM_GENS - 1:\n",
    "        break\n",
    "\n",
    "    sortedp = sorted(zip(pop, fitnesses), key=lambda x: x[1], reverse=True)[\n",
    "        :NUM_PARENTS_BEST\n",
    "    ]\n",
    "\n",
    "    if sortedp[0][1] > best_fitness:\n",
    "        best_fitness = sortedp[0][1]\n",
    "        best = sortedp[0][0]\n",
    "\n",
    "    # # mutate\n",
    "    # new_pop=[p[0] for p in sortedp] \n",
    "    # while len(new_pop)<POP_SIZE:\n",
    "    #     new_pop.append(mutate(random.choice(sortedp)[0]))\n",
    "    # pop=new_pop\n",
    "\n",
    "    # # xover\n",
    "    # new_pop = [p[0] for p in sortedp]  \n",
    "    # while len(new_pop) < POP_SIZE:\n",
    "    #     new_pop.extend(xover(random.choice(sortedp)[0], random.choice(sortedp)[0]))\n",
    "    # pop = new_pop\n",
    "\n",
    "    # xover + mutate\n",
    "    new_pop = [p[0] for p in sortedp]  # keep some daddies\n",
    "    while len(new_pop) < POP_SIZE:\n",
    "\n",
    "        f1,f2=xover(random.choice(sortedp)[0], random.choice(sortedp)[0])\n",
    "\n",
    "        if random.random()<MUTATION_RATE:\n",
    "            f1=mutate(f1)\n",
    "        if random.random()<MUTATION_RATE:\n",
    "            f1=mutate(f2)\n",
    "\n",
    "        new_pop.extend([f1,f2])\n",
    "    pop = new_pop\n",
    "\n",
    "    if check_convergence([np.mean(f) for f in all_fitnesses], window_size=3, min_gradient=0.01) and MUTATION_RATE<0.9:\n",
    "        # TODO add counter for how many times this has happened to stop at some point\n",
    "        MUTATION_RATE+=0.05\n",
    "        print(\"Convergence detected. Increasing mutation rate to: \", MUTATION_RATE)\n",
    "\n",
    "\n",
    "best_final = pop[fitnesses.index(max(fitnesses))]\n",
    "print(\"\\n\\nBest individual final generation: \", best_final)\n",
    "print(\"Best fitness final generation: \", max(fitnesses))\n",
    "print(\"\\nBest individual overall: \", best)\n",
    "print(\"Best fitness overall: \", best_fitness)"
   ]
  },
  {
   "cell_type": "code",
   "execution_count": 18,
   "metadata": {},
   "outputs": [
    {
     "data": {
      "image/png": "[encoded data removed]",
      "text/plain": [
       "<Figure size 640x480 with 1 Axes>"
      ]
     },
     "metadata": {},
     "output_type": "display_data"
    }
   ],
   "source": [
    "plt.figure()\n",
    "plt.title(\"Fitness Over Generations\")\n",
    "plt.plot([sum(f) / len(f) for f in all_fitnesses], label=\"Average fitness\")\n",
    "plt.plot([max(f) for f in all_fitnesses], label=\"Best fitness\")\n",
    "plt.plot([min(f) for f in all_fitnesses], label=\"Worst fitness\")\n",
    "plt.legend()\n",
    "plt.show()"
   ]
  },
  {
   "cell_type": "code",
   "execution_count": 19,
   "metadata": {},
   "outputs": [
    {
     "name": "stdout",
     "output_type": "stream",
     "text": [
      "\n",
      "pretraining\n",
      "Epoch 20/100, Loss: 1.1413891315460205\n",
      "Epoch 40/100, Loss: 1.0887337923049927\n",
      "Epoch 60/100, Loss: 1.0724995136260986\n",
      "Epoch 80/100, Loss: 1.0632704496383667\n",
      "Epoch 100/100, Loss: 1.0566892623901367\n",
      "Epoch 20/100, Loss: 1.268090844154358\n",
      "Epoch 40/100, Loss: 1.1727365255355835\n",
      "Epoch 60/100, Loss: 1.1423051357269287\n",
      "Epoch 80/100, Loss: 1.1256099939346313\n",
      "Epoch 100/100, Loss: 1.116377592086792\n",
      "Epoch 20/100, Loss: 1.3378512859344482\n",
      "Epoch 40/100, Loss: 1.2390469312667847\n",
      "Epoch 60/100, Loss: 1.1898826360702515\n",
      "Epoch 80/100, Loss: 1.1699451208114624\n",
      "Epoch 100/100, Loss: 1.1587460041046143\n",
      "\n",
      "training\n",
      "Epoch 1/500, Loss: 1.6152793169021606\n",
      "Epoch 11/500, Loss: 1.1428664922714233\n",
      "Epoch 21/500, Loss: 1.0894544124603271\n",
      "Epoch 31/500, Loss: 1.0692862272262573\n",
      "Epoch 41/500, Loss: 1.053400993347168\n",
      "Epoch 51/500, Loss: 1.0451055765151978\n",
      "Epoch 61/500, Loss: 1.0400128364562988\n",
      "Epoch 71/500, Loss: 1.036942481994629\n",
      "Converged at epoch 76, Loss = 1.035842776298523\n",
      "\n",
      "testing\n",
      "Over 10 test runs:\n",
      "- Accuracy on train+test set  : 0.8400000000000001\n",
      "- Accuracy on test set        : 0.8479087452471481\n",
      "- F1 on test set              : 0.8512082626900019\n",
      "- F1 macro on test set        : 0.8131273381790354\n"
     ]
    },
    {
     "data": {
      "text/plain": [
       "0.8479087452471481"
      ]
     },
     "execution_count": 19,
     "metadata": {},
     "output_type": "execute_result"
    }
   ],
   "source": [
    "saving = True\n",
    "saving = False\n",
    "fitness(best,epoch_pre=100,epoch_tr=500,printing=True,saving=saving)"
   ]
  }
 ],
 "metadata": {
  "kernelspec": {
   "display_name": ".env",
   "language": "python",
   "name": "python3"
  },
  "language_info": {
   "codemirror_mode": {
    "name": "ipython",
    "version": 3
   },
   "file_extension": ".py",
   "mimetype": "text/x-python",
   "name": "python",
   "nbconvert_exporter": "python",
   "pygments_lexer": "ipython3",
   "version": "3.9.6"
  }
 },
 "nbformat": 4,
 "nbformat_minor": 2
}
