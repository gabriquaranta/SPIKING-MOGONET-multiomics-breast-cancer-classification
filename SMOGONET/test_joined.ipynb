{
 "cells": [
  {
   "cell_type": "code",
   "execution_count": 1,
   "metadata": {},
   "outputs": [],
   "source": [
    "import torch\n",
    "# import torch.nn as nn\n",
    "import torch.optim as optim\n",
    "import matplotlib.pyplot as plt\n",
    "\n",
    "from torch.optim.lr_scheduler import StepLR\n",
    "# from snntorch import spikegen\n",
    "# from sklearn.metrics import f1_score\n",
    "\n",
    "from smogoutils import get_all_data_adj, compute_spiking_node_representation as csnr\n",
    "from smogomodels import SMOGOGCN,SMOGOVCDN\n",
    "from smogotrain import pretrain, smogotrain,smogotrain_v2, smogotest, smogotest_v2"
   ]
  },
  {
   "cell_type": "code",
   "execution_count": 2,
   "metadata": {},
   "outputs": [
    {
     "name": "stdout",
     "output_type": "stream",
     "text": [
      "device:  cpu\n"
     ]
    },
    {
     "name": "stderr",
     "output_type": "stream",
     "text": [
      "/Users/gabriquaranta/repos/mla-prj-24-mla24-prj19-gu1/.env/lib/python3.9/site-packages/torch/__init__.py:747: UserWarning: torch.set_default_tensor_type() is deprecated as of PyTorch 2.1, please use torch.set_default_dtype() and torch.set_default_device() as alternatives. (Triggered internally at /Users/runner/work/pytorch/pytorch/pytorch/torch/csrc/tensor/python_tensor.cpp:433.)\n",
      "  _C._set_default_tensor_type(t)\n"
     ]
    }
   ],
   "source": [
    "device = torch.device(\"cuda\" if torch.cuda.is_available() else \"cpu\")\n",
    "print(\"device: \",device)\n",
    "\n",
    "if device == \"cuda\":\n",
    "    torch.set_default_tensor_type(torch.cuda.FloatTensor)\n",
    "    torch.set_default_device(\"cuda\")\n",
    "else:\n",
    "    torch.set_default_tensor_type(torch.FloatTensor)\n",
    "    torch.set_default_device(\"cpu\")"
   ]
  },
  {
   "cell_type": "markdown",
   "metadata": {},
   "source": [
    "# Prepare data"
   ]
  },
  {
   "cell_type": "code",
   "execution_count": 3,
   "metadata": {},
   "outputs": [
    {
     "name": "stderr",
     "output_type": "stream",
     "text": [
      "/Users/gabriquaranta/repos/mla-prj-24-mla24-prj19-gu1/SMOGONET/smogoutils.py:120: UserWarning: torch.sparse.SparseTensor(indices, values, shape, *, device=) is deprecated.  Please use torch.sparse_coo_tensor(indices, values, shape, dtype=, device=). (Triggered internally at /Users/runner/work/pytorch/pytorch/pytorch/torch/csrc/utils/tensor_new.cpp:623.)\n",
      "  return sparse_tensortype(indices, values, x.size())\n"
     ]
    }
   ],
   "source": [
    "data_folder = \"BRCA\"\n",
    "view_list = [1, 2, 3]\n",
    "num_view=3\n",
    "num_class = 5\n",
    "\n",
    "(\n",
    "    data_tr_list,\n",
    "    data_trte_list,\n",
    "    trte_idx,\n",
    "    labels_trte,\n",
    "    labels_tr_tensor,\n",
    "    onehot_labels_tr_tensor,\n",
    "    adj_tr_list,\n",
    "    adj_te_list,\n",
    "    dim_list,\n",
    ") = get_all_data_adj(\n",
    "    data_folder,\n",
    "    view_list,\n",
    "    num_class,\n",
    ")"
   ]
  },
  {
   "cell_type": "code",
   "execution_count": 4,
   "metadata": {},
   "outputs": [
    {
     "name": "stdout",
     "output_type": "stream",
     "text": [
      "torch.Size([100, 612, 1000]) torch.Size([100, 612, 1000]) torch.Size([100, 612, 503])\n",
      "torch.Size([100, 875, 1000]) torch.Size([100, 875, 1000]) torch.Size([100, 875, 503])\n",
      "torch.Size([612]) torch.Size([875]) torch.Size([263])\n"
     ]
    }
   ],
   "source": [
    "K = 3\n",
    "num_steps = 100\n",
    "\n",
    "enc_function = 'rate'\n",
    "# enc_function = 'latency'\n",
    "\n",
    "H_tr_v1 = csnr(data_tr_list[0], adj_tr_list[0], K, num_steps, enc_function).to(device)\n",
    "H_tr_v2 = csnr(data_tr_list[1], adj_tr_list[1], K, num_steps, enc_function).to(device)\n",
    "H_tr_v3 = csnr(data_tr_list[2], adj_tr_list[2], K, num_steps, enc_function).to(device)\n",
    "\n",
    "H_trte_v1 = csnr(data_trte_list[0], adj_te_list[0], K, num_steps, enc_function).to(device)\n",
    "H_trte_v2 = csnr(data_trte_list[1], adj_te_list[1], K, num_steps, enc_function).to(device)\n",
    "H_trte_v3 = csnr(data_trte_list[2], adj_te_list[2], K, num_steps, enc_function).to(device)\n",
    "\n",
    "H_te_v1=H_trte_v1 # only te part is extracted later\n",
    "H_te_v2=H_trte_v2\n",
    "H_te_v3=H_trte_v3\n",
    "\n",
    "labels_tr=labels_tr_tensor.to(device)\n",
    "labels_trte_tensor = torch.tensor(labels_trte).to(device)\n",
    "labels_te=labels_trte_tensor[trte_idx['te']].to(device)\n",
    "\n",
    "print(H_tr_v1.shape, H_tr_v2.shape, H_tr_v3.shape)\n",
    "print(H_trte_v1.shape, H_trte_v2.shape, H_trte_v3.shape)\n",
    "print(labels_tr.shape, labels_trte_tensor.shape, labels_te.shape)"
   ]
  },
  {
   "cell_type": "markdown",
   "metadata": {},
   "source": [
    "# Models"
   ]
  },
  {
   "cell_type": "code",
   "execution_count": 5,
   "metadata": {},
   "outputs": [],
   "source": [
    "output_size = num_class\n",
    "\n",
    "hidden_size1 = 50\n",
    "hidden_size2 = 50\n",
    "hidden_size3 = 50\n",
    "\n",
    "beta1a=0.9\n",
    "beta2a=0.9\n",
    "beta3a=0.9\n",
    "\n",
    "beta1b=0.9\n",
    "beta2b=0.9\n",
    "beta3b=0.9\n",
    "\n",
    "sgcn1 = SMOGOGCN(H_tr_v1.shape[2], hidden_size1, output_size,beta1=beta1a,beta2=beta1b).to(device)\n",
    "sgcn2 = SMOGOGCN(H_tr_v2.shape[2], hidden_size2, output_size,beta1=beta2a, beta2=beta2b).to(device)\n",
    "sgcn3 = SMOGOGCN(H_tr_v3.shape[2], hidden_size3, output_size,beta1=beta3a, beta2=beta3b).to(device)\n",
    "\n",
    "# sgcns output torch.stack(spk_rec), torch.stack(mem_rec)\n",
    "# output spikes of shape for each: torch.Size([100, 875, 5])\n",
    "# output probs of shape for each: torch.Size([875, 5])\n",
    "\n",
    "# operations pre vcdn\n",
    "# after outer product torch.Size([875, 125, 1])\n",
    "# torch.Size([875, 125])\n",
    "# torch.Size([100, 875, 125])\n",
    "\n",
    "vcdn_input_size = 125\n",
    "vcdn_hidden_size = 50\n",
    "vcdn_beta1=0.9\n",
    "vcdn_beta2=0.9\n",
    "\n",
    "svcdn=SMOGOVCDN(vcdn_input_size, vcdn_hidden_size, output_size,beta1=vcdn_beta1,beta2=vcdn_beta2).to(device)"
   ]
  },
  {
   "cell_type": "markdown",
   "metadata": {},
   "source": [
    "# Pretrain sgcns"
   ]
  },
  {
   "cell_type": "code",
   "execution_count": 6,
   "metadata": {},
   "outputs": [],
   "source": [
    "# def pretrain(snn, inputs, targets, num_epoch_pretrain=10):\n",
    "#     optimizer = optim.Adam(snn.parameters(), lr=0.01)\n",
    "#     loss_fn = nn.CrossEntropyLoss()\n",
    "\n",
    "#     for epoch in range(num_epoch_pretrain):\n",
    "#         optimizer.zero_grad()\n",
    "#         outputs, _ = snn(inputs)\n",
    "#         outputs = outputs.mean(dim=0)  # average over time steps\n",
    "\n",
    "#         loss = loss_fn(outputs, targets)\n",
    "#         loss.backward()\n",
    "#         optimizer.step()\n",
    "\n",
    "#         if (epoch + 1) % 2 == 0:\n",
    "#             print(f\"Epoch {epoch + 1}/{num_epoch_pretrain}, Loss: {loss.item()}\")\n",
    "#     print()"
   ]
  },
  {
   "cell_type": "code",
   "execution_count": 7,
   "metadata": {},
   "outputs": [
    {
     "name": "stdout",
     "output_type": "stream",
     "text": [
      "Epoch 20/100, Loss: 1.0428324937820435\n",
      "Epoch 40/100, Loss: 1.0207828283309937\n",
      "Epoch 60/100, Loss: 1.001206874847412\n",
      "Epoch 80/100, Loss: 0.9868412613868713\n",
      "Epoch 100/100, Loss: 0.9820289611816406\n",
      "Epoch 20/100, Loss: 1.0894440412521362\n",
      "Epoch 40/100, Loss: 1.0403435230255127\n",
      "Epoch 60/100, Loss: 1.0116885900497437\n",
      "Epoch 80/100, Loss: 0.9935560822486877\n",
      "Epoch 100/100, Loss: 0.9810560345649719\n",
      "Epoch 20/100, Loss: 1.1045950651168823\n",
      "Epoch 40/100, Loss: 1.0551906824111938\n",
      "Epoch 60/100, Loss: 1.0213096141815186\n",
      "Epoch 80/100, Loss: 0.994787871837616\n",
      "Epoch 100/100, Loss: 0.9783267378807068\n"
     ]
    }
   ],
   "source": [
    "num_epoch_pretrain1 = 100\n",
    "num_epoch_pretrain2 = 100\n",
    "num_epoch_pretrain3 = 100\n",
    "\n",
    "lr1=0.1\n",
    "lr2=0.1\n",
    "lr3=0.1\n",
    "\n",
    "losses1 = pretrain(sgcn1,H_tr_v1,labels_tr,num_epoch_pretrain1,lr=lr1)\n",
    "losses2 = pretrain(sgcn3,H_tr_v3,labels_tr,num_epoch_pretrain2,lr=lr2)\n",
    "losses3 = pretrain(sgcn2,H_tr_v2,labels_tr,num_epoch_pretrain3,lr=lr3)"
   ]
  },
  {
   "cell_type": "code",
   "execution_count": 8,
   "metadata": {},
   "outputs": [
    {
     "data": {
      "image/png": "[encoded data removed]",
      "text/plain": [
       "<Figure size 1500x500 with 3 Axes>"
      ]
     },
     "metadata": {},
     "output_type": "display_data"
    }
   ],
   "source": [
    "plt.figure(figsize=(15,5))\n",
    "plt.suptitle(\"Pretrain Losses\")\n",
    "plt.subplot(1,3,1)\n",
    "plt.plot(losses1)\n",
    "plt.title('SGCN View 1')\n",
    "plt.subplot(1,3,2)\n",
    "plt.plot(losses2)\n",
    "plt.title('SGCN View 2')\n",
    "plt.subplot(1,3,3)\n",
    "plt.plot(losses3)\n",
    "plt.title('SGCN View 3')\n",
    "plt.show()"
   ]
  },
  {
   "cell_type": "markdown",
   "metadata": {},
   "source": [
    "# Train Jointly"
   ]
  },
  {
   "cell_type": "code",
   "execution_count": 9,
   "metadata": {},
   "outputs": [
    {
     "name": "stdout",
     "output_type": "stream",
     "text": [
      "Epoch 1/500, Loss: 1.89860200881958\n",
      "Epoch 11/500, Loss: 0.9937250018119812\n",
      "Epoch 21/500, Loss: 0.9870954751968384\n",
      "Epoch 31/500, Loss: 0.983964204788208\n",
      "Epoch 41/500, Loss: 0.9828042387962341\n",
      "Epoch 51/500, Loss: 0.9818798899650574\n",
      "Converged at epoch 51, Loss = 0.9818123579025269\n"
     ]
    }
   ],
   "source": [
    "num_epochs = 500\n",
    "\n",
    "snns = [sgcn1, sgcn2, sgcn3, svcdn]\n",
    "\n",
    "H_trs = [H_tr_v1, H_tr_v2, H_tr_v3]\n",
    "\n",
    "lr1 = 0.01\n",
    "lr2 = 0.01\n",
    "lr3 = 0.01\n",
    "lr4 = 0.1 # .1 better start than .01\n",
    "\n",
    "step_size1 = 10\n",
    "step_size2 = 10\n",
    "step_size3 = 10\n",
    "step_size4 = 10\n",
    "\n",
    "gamma1 = 0.5\n",
    "gamma2 = 0.5\n",
    "gamma3 = 0.5\n",
    "gamma4 = 0.5\n",
    "\n",
    "optimizer1 = optim.Adam(sgcn1.parameters(), lr=lr1)\n",
    "optimizer2 = optim.Adam(sgcn2.parameters(), lr=lr2)\n",
    "optimizer3 = optim.Adam(sgcn3.parameters(), lr=lr3)\n",
    "optimizer4 = optim.Adam(svcdn.parameters(), lr=lr4)\n",
    "\n",
    "scheduler1 = StepLR(optimizer1, step_size=step_size1, gamma=gamma1)\n",
    "scheduler2 = StepLR(optimizer2, step_size=step_size2, gamma=gamma2)\n",
    "scheduler3 = StepLR(optimizer3, step_size=step_size3, gamma=gamma3)\n",
    "scheduler4 = StepLR(optimizer4, step_size=step_size4, gamma=gamma4)\n",
    "\n",
    "opt_list=[optimizer1,optimizer2,optimizer3,optimizer4]\n",
    "sched_list=[scheduler1,scheduler2,scheduler3,scheduler4]\n",
    "\n",
    "# losses = smogotrain(\n",
    "#     snns,\n",
    "#     H_trs,\n",
    "#     labels_tr,\n",
    "#     opt_list=opt_list,\n",
    "#     sched_list=sched_list,\n",
    "#     num_epochs=num_epochs,\n",
    "#     l2_lambda=0.0001, # set to 0 to not use regularization\n",
    "# )\n",
    "losses = smogotrain_v2(\n",
    "    snns,\n",
    "    H_trs,\n",
    "    labels_tr,\n",
    "    opt_list=opt_list,\n",
    "    sched_list=sched_list,\n",
    "    num_epochs=num_epochs,\n",
    "    l2_lambda=0.0001, # set to 0 to not use regularization\n",
    ")"
   ]
  },
  {
   "cell_type": "code",
   "execution_count": 10,
   "metadata": {},
   "outputs": [
    {
     "data": {
      "text/plain": [
       "[<matplotlib.lines.Line2D at 0x32c74f8e0>]"
      ]
     },
     "execution_count": 10,
     "metadata": {},
     "output_type": "execute_result"
    },
    {
     "data": {
      "image/png": "[encoded data removed]",
      "text/plain": [
       "<Figure size 640x480 with 1 Axes>"
      ]
     },
     "metadata": {},
     "output_type": "display_data"
    }
   ],
   "source": [
    "plt.title(\"Training Loss\")\n",
    "plt.plot(losses)"
   ]
  },
  {
   "cell_type": "code",
   "execution_count": 11,
   "metadata": {},
   "outputs": [],
   "source": [
    "# optimizer1 = optim.Adam(sgcn1.parameters(), lr=0.01)\n",
    "# optimizer2 = optim.Adam(sgcn2.parameters(), lr=0.01)\n",
    "# optimizer3 = optim.Adam(sgcn3.parameters(), lr=0.01)\n",
    "# optimizer4 = optim.Adam(svcdn.parameters(), lr=0.001)\n",
    "\n",
    "# scheduler1 = StepLR(optimizer1, step_size=10, gamma=0.5)\n",
    "# scheduler2 = StepLR(optimizer2, step_size=10, gamma=0.5)\n",
    "# scheduler3 = StepLR(optimizer3, step_size=10, gamma=0.5)\n",
    "# scheduler4 = StepLR(optimizer4, step_size=10, gamma=0.5)\n",
    "\n",
    "# loss_fn = nn.CrossEntropyLoss()\n",
    "# losses=[]\n",
    "\n",
    "# for epoch in range(num_epochs):\n",
    "#     optimizer1.zero_grad()\n",
    "#     optimizer2.zero_grad()\n",
    "#     optimizer3.zero_grad()\n",
    "#     optimizer4.zero_grad()\n",
    "\n",
    "#     outputs1, _ = sgcn1(H_tr_v1)\n",
    "#     outputs2, _ = sgcn2(H_tr_v2)\n",
    "#     outputs3, _ = sgcn3(H_tr_v3)\n",
    "\n",
    "#     outputs1 = outputs1.mean(dim=0)\n",
    "#     outputs2 = outputs2.mean(dim=0)\n",
    "#     outputs3 = outputs3.mean(dim=0)\n",
    "\n",
    "#     in_list=[outputs1, outputs2, outputs3]\n",
    "\n",
    "#     for i in range(num_view):\n",
    "#         in_list[i] = torch.sigmoid(in_list[i])\n",
    "\n",
    "\n",
    "#     x = torch.reshape(\n",
    "#         torch.matmul(in_list[0].unsqueeze(-1), in_list[1].unsqueeze(1)),\n",
    "#         (-1, pow(num_class, 2), 1),\n",
    "#     )\n",
    "#     x = torch.reshape(\n",
    "#         torch.matmul(x, in_list[2].unsqueeze(1)),\n",
    "#         (-1, pow(num_class, 3), 1),\n",
    "#     )\n",
    "\n",
    "#     vcdn_feat = torch.reshape(x, (-1, pow(num_class, num_view)))\n",
    "\n",
    "#     vcdn_input_spike_encoding= spikegen.rate(vcdn_feat,100)\n",
    "\n",
    "#     outputs4, _ = svcdn(vcdn_input_spike_encoding)\n",
    "\n",
    "#     outputs4 = outputs4.mean(dim=0)\n",
    "\n",
    "#     loss = loss_fn(outputs4, labels_tr)\n",
    "#     losses.append(loss.item())\n",
    "#     loss.backward()\n",
    "\n",
    "#     optimizer1.step()\n",
    "#     optimizer2.step()\n",
    "#     optimizer3.step()\n",
    "#     optimizer4.step()\n",
    "\n",
    "#     scheduler1.step()\n",
    "#     scheduler2.step()\n",
    "#     scheduler3.step()\n",
    "#     scheduler4.step()\n",
    "\n",
    "#     if (epoch + 1) % 10 == 0:\n",
    "#         print(f'Epoch {epoch + 1}/{num_epochs}, Loss: {loss.item()}')\n"
   ]
  },
  {
   "cell_type": "markdown",
   "metadata": {},
   "source": [
    "# Test"
   ]
  },
  {
   "cell_type": "code",
   "execution_count": 12,
   "metadata": {},
   "outputs": [],
   "source": [
    "# load = True\n",
    "load = False\n",
    "\n",
    "if load:\n",
    "    sgcn1=SMOGOGCN(H_te_v1.shape[2], hidden_size1, output_size)\n",
    "    sgcn2=SMOGOGCN(H_te_v2.shape[2], hidden_size2, output_size)\n",
    "    sgcn3=SMOGOGCN(H_te_v3.shape[2], hidden_size3, output_size)\n",
    "    svcdn=SMOGOVCDN(vcdn_input_size, vcdn_hidden_size, output_size)\n",
    "\n",
    "    sgcn1.load_state_dict(torch.load('models/sgcn1.pth'))\n",
    "    sgcn2.load_state_dict(torch.load('models/sgcn2.pth'))\n",
    "    sgcn3.load_state_dict(torch.load('models/sgcn3.pth'))\n",
    "    svcdn.load_state_dict(torch.load('models/svcdn.pth'))"
   ]
  },
  {
   "cell_type": "code",
   "execution_count": 13,
   "metadata": {},
   "outputs": [
    {
     "name": "stdout",
     "output_type": "stream",
     "text": [
      "Over 10 test runs:\n",
      "- Accuracy on train+test set  : 0.8537142857142859\n",
      "- Accuracy on test set        : 0.8403041825095057\n",
      "- F1 on test set              : 0.8436331283875074\n",
      "- F1 macro on test set        : 0.8020338357944257\n"
     ]
    }
   ],
   "source": [
    "idx_te = trte_idx['te']\n",
    "\n",
    "snn_list = [sgcn1, sgcn2, sgcn3, svcdn]\n",
    "H_te_list = [H_te_v1, H_te_v2, H_te_v3]\n",
    "\n",
    "# a = smogotest(snn_list, H_te_list, labels_trte_tensor, labels_te, idx_te)\n",
    "a = smogotest_v2(snn_list, H_te_list, labels_trte_tensor, labels_te, idx_te)"
   ]
  },
  {
   "cell_type": "code",
   "execution_count": 14,
   "metadata": {},
   "outputs": [],
   "source": [
    "# outputs1, _ = sgcn1(H_te_v1)\n",
    "# outputs2, _ = sgcn2(H_te_v2)\n",
    "# outputs3, _ = sgcn3(H_te_v3)\n",
    "\n",
    "# outputs1 = outputs1.mean(dim=0)\n",
    "# outputs2 = outputs2.mean(dim=0)\n",
    "# outputs3 = outputs3.mean(dim=0)\n",
    "\n",
    "# in_list=[outputs1, outputs2, outputs3]\n",
    "\n",
    "# accuracies_trte = []\n",
    "# accuracies_te = []\n",
    "# f1s_te = []\n",
    "# f1s_te_macro = []\n",
    "\n",
    "# num_tests = 10\n",
    "\n",
    "# for i in range(num_view):\n",
    "#     in_list[i] = torch.sigmoid(in_list[i])\n",
    "\n",
    "\n",
    "# x = torch.reshape(\n",
    "#     torch.matmul(in_list[0].unsqueeze(-1), in_list[1].unsqueeze(1)),\n",
    "#     (-1, pow(num_class, 2), 1),\n",
    "# )\n",
    "# x = torch.reshape(\n",
    "#     torch.matmul(x, in_list[2].unsqueeze(1)),\n",
    "#     (-1, pow(num_class, 3)),\n",
    "# )\n",
    "\n",
    "# vcdn_input_spike_encoding = spikegen.rate(x,100)\n",
    "\n",
    "# for i in range(num_tests):\n",
    "\n",
    "#     outputs4, _ = svcdn(vcdn_input_spike_encoding)\n",
    "\n",
    "#     accuracy=(torch.argmax(outputs4.mean(dim=0), dim=1) == labels_trte_tensor).sum().item() / labels_trte_tensor.size(0)\n",
    "#     accuracies_trte.append(accuracy)\n",
    "\n",
    "#     accuracy_te=(torch.argmax(outputs4.mean(dim=0)[idx_te], dim=1) == labels_te).sum().item() / labels_te.size(0)\n",
    "#     accuracies_te.append(accuracy_te)\n",
    "\n",
    "#     f1_te = f1_score(labels_te, torch.argmax(outputs4.mean(dim=0)[idx_te], dim=1), average='weighted')\n",
    "#     f1s_te.append(f1_te)\n",
    "\n",
    "#     f1_te = f1_score(labels_te, torch.argmax(outputs4.mean(dim=0)[idx_te], dim=1), average='macro')\n",
    "#     f1s_te_macro.append(f1_te)\n",
    "\n",
    "# print(f\"Over 10 test runs:\")\n",
    "# # print(f'- Accuracy on train+test set  : {sum(accuracies_trte) / num_tests}')\n",
    "# print(f'- Accuracy on test set        : {sum(accuracies_te) / num_tests}')\n",
    "# print(f'- F1 on test set              : {sum(f1s_te) / num_tests}')\n",
    "# print(f'- F1 macro on test set        : {sum(f1s_te_macro) / num_tests}')\n"
   ]
  },
  {
   "cell_type": "code",
   "execution_count": 16,
   "metadata": {},
   "outputs": [],
   "source": [
    "save = True\n",
    "save = False\n",
    "\n",
    "if save:\n",
    "    torch.save(sgcn1.state_dict(), 'models/sgcn1.pth')\n",
    "    torch.save(sgcn2.state_dict(), 'models/sgcn2.pth')\n",
    "    torch.save(sgcn3.state_dict(), 'models/sgcn3.pth')\n",
    "    torch.save(svcdn.state_dict(), 'models/svcdn.pth')"
   ]
  }
 ],
 "metadata": {
  "kernelspec": {
   "display_name": ".env",
   "language": "python",
   "name": "python3"
  },
  "language_info": {
   "codemirror_mode": {
    "name": "ipython",
    "version": 3
   },
   "file_extension": ".py",
   "mimetype": "text/x-python",
   "name": "python",
   "nbconvert_exporter": "python",
   "pygments_lexer": "ipython3",
   "version": "3.9.6"
  }
 },
 "nbformat": 4,
 "nbformat_minor": 2
}
