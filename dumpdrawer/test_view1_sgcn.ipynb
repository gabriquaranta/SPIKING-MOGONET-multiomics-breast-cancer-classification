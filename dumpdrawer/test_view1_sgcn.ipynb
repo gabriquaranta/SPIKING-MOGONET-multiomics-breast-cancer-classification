{
 "cells": [
  {
   "cell_type": "code",
   "execution_count": 52,
   "metadata": {},
   "outputs": [],
   "source": [
    "import torch\n",
    "import torch.nn as nn\n",
    "import torch.optim as optim\n",
    "import snntorch as snn\n",
    "from snntorch import surrogate\n",
    "\n",
    "from train_test import get_all_data_adj\n",
    "from test_data_encoding_ZHU import compute_spiking_node_representation"
   ]
  },
  {
   "cell_type": "code",
   "execution_count": 53,
   "metadata": {},
   "outputs": [],
   "source": [
    "data_folder = \"BRCA\"\n",
    "view_list = [1, 2, 3]\n",
    "num_class = 5\n",
    "\n",
    "(\n",
    "    data_tr_list,\n",
    "    data_trte_list,\n",
    "    trte_idx,\n",
    "    labels_trte,\n",
    "    labels_tr_tensor,\n",
    "    onehot_labels_tr_tensor,\n",
    "    adj_tr_list,\n",
    "    adj_te_list,\n",
    "    dim_list,\n",
    ") = get_all_data_adj(\n",
    "    data_folder,\n",
    "    view_list,\n",
    "    num_class,\n",
    ")"
   ]
  },
  {
   "cell_type": "code",
   "execution_count": 54,
   "metadata": {},
   "outputs": [],
   "source": [
    "class SimpleSNN(nn.Module):\n",
    "    def __init__(self, input_size, hidden_size, output_size):\n",
    "        super(SimpleSNN, self).__init__()\n",
    "        self.fc1 = nn.Linear(input_size, hidden_size)\n",
    "        self.bn1 = nn.BatchNorm1d(hidden_size)\n",
    "        self.lif1 = snn.Leaky(beta=0.9, spike_grad=surrogate.fast_sigmoid())\n",
    "        self.fc2 = nn.Linear(hidden_size, output_size)\n",
    "        self.bn2 = nn.BatchNorm1d(output_size)\n",
    "        self.lif2 = snn.Leaky(beta=0.9, spike_grad=surrogate.fast_sigmoid())\n",
    "        \n",
    "        # Weight initialization\n",
    "        nn.init.xavier_uniform_(self.fc1.weight)\n",
    "        nn.init.xavier_uniform_(self.fc2.weight)\n",
    "\n",
    "    def forward(self, x):\n",
    "        spk_rec = []\n",
    "        mem_rec = []\n",
    "        mem1 = self.lif1.init_leaky()\n",
    "        mem2 = self.lif2.init_leaky()\n",
    "\n",
    "        for step in range(x.size(0)):\n",
    "            cur1 = self.fc1(x[step])\n",
    "            cur1 = self.bn1(cur1)\n",
    "            spk1, mem1 = self.lif1(cur1, mem1)\n",
    "            cur2 = self.fc2(spk1)\n",
    "            cur2 = self.bn2(cur2)\n",
    "            spk2, mem2 = self.lif2(cur2, mem2)\n",
    "            spk_rec.append(spk2)\n",
    "            mem_rec.append(mem2)\n",
    "\n",
    "        return torch.stack(spk_rec), torch.stack(mem_rec)\n"
   ]
  },
  {
   "cell_type": "code",
   "execution_count": 55,
   "metadata": {},
   "outputs": [
    {
     "name": "stdout",
     "output_type": "stream",
     "text": [
      "torch.Size([100, 612, 1000]) <class 'torch.Tensor'>\n",
      "torch.Size([100, 875, 1000])\n"
     ]
    }
   ],
   "source": [
    "K = 3\n",
    "num_steps = 100\n",
    "\n",
    "H_encoded_tr_view1 = compute_spiking_node_representation(\n",
    "    data_tr_list[0], adj_tr_list[0], K, num_steps\n",
    ")\n",
    "print(H_encoded_tr_view1.shape, type(H_encoded_tr_view1))\n",
    "\n",
    "H_encoded_te_view1 = compute_spiking_node_representation(\n",
    "    data_trte_list[0], adj_te_list[0], K, num_steps\n",
    ")\n",
    "print(H_encoded_te_view1.shape)"
   ]
  },
  {
   "cell_type": "code",
   "execution_count": 56,
   "metadata": {},
   "outputs": [
    {
     "name": "stdout",
     "output_type": "stream",
     "text": [
      "torch.Size([612])\n",
      "torch.Size([875])\n"
     ]
    }
   ],
   "source": [
    "print(labels_tr_tensor.shape)\n",
    "labels_trte_tensor = torch.tensor(labels_trte)\n",
    "print(labels_trte_tensor.shape)"
   ]
  },
  {
   "cell_type": "code",
   "execution_count": 57,
   "metadata": {},
   "outputs": [],
   "source": [
    "inputs=H_encoded_tr_view1\n",
    "targets=labels_tr_tensor\n",
    "\n",
    "input_size = inputs.shape[2]  # input features\n",
    "hidden_size = 50  # neurons in the hidden layer\n",
    "output_size = 5  # output classes\n",
    "num_steps = inputs.shape[0]  # time steps\n",
    "num_samples = inputs.shape[1]  # samples\n",
    "num_epochs = 100  \n",
    "batch_size = 32  \n",
    "\n",
    "snn = SimpleSNN(input_size, hidden_size, output_size)\n",
    "optimizer = optim.Adam(snn.parameters(), lr=0.01)\n",
    "loss_fn = nn.CrossEntropyLoss()"
   ]
  },
  {
   "cell_type": "code",
   "execution_count": 58,
   "metadata": {},
   "outputs": [
    {
     "name": "stdout",
     "output_type": "stream",
     "text": [
      "Epoch 10/100, Loss: 1.1341798305511475\n",
      "Epoch 20/100, Loss: 1.069413423538208\n",
      "Epoch 30/100, Loss: 1.0412991046905518\n",
      "Epoch 40/100, Loss: 1.0281991958618164\n",
      "Epoch 50/100, Loss: 1.0180375576019287\n",
      "Epoch 60/100, Loss: 1.0075780153274536\n",
      "Epoch 70/100, Loss: 0.9971830248832703\n",
      "Epoch 80/100, Loss: 0.9871007204055786\n",
      "Epoch 90/100, Loss: 0.9723661541938782\n",
      "Epoch 100/100, Loss: 0.9645165205001831\n"
     ]
    }
   ],
   "source": [
    "for epoch in range(num_epochs):\n",
    "    optimizer.zero_grad()\n",
    "    outputs, _ = snn(inputs)\n",
    "    outputs = outputs.mean(dim=0)  # average over time steps\n",
    "\n",
    "    loss = loss_fn(outputs, targets)\n",
    "    loss.backward()\n",
    "    optimizer.step()\n",
    "\n",
    "    if (epoch + 1) % 10 == 0:\n",
    "        print(f'Epoch {epoch + 1}/{num_epochs}, Loss: {loss.item()}')"
   ]
  },
  {
   "cell_type": "code",
   "execution_count": 59,
   "metadata": {},
   "outputs": [
    {
     "name": "stdout",
     "output_type": "stream",
     "text": [
      "fc1.weight: 1.8895843822974712e-06\n",
      "fc1.bias: 6.611375401137376e-13\n",
      "bn1.weight: 1.933348539751023e-05\n",
      "bn1.bias: 2.1655901946360245e-05\n",
      "fc2.weight: 7.120329246390611e-05\n",
      "fc2.bias: 1.8616042735120075e-11\n",
      "bn2.weight: 0.0008424957050010562\n",
      "bn2.bias: 0.0008054388454183936\n"
     ]
    }
   ],
   "source": [
    "for name, param in snn.named_parameters():\n",
    "    if param.grad is not None:\n",
    "        print(f\"{name}: {param.grad.abs().mean().item()}\")"
   ]
  },
  {
   "cell_type": "code",
   "execution_count": 60,
   "metadata": {},
   "outputs": [
    {
     "name": "stdout",
     "output_type": "stream",
     "text": [
      "Testing Accuracy: 0.8777142763137817\n",
      "tensor([2, 3, 0, 3, 1, 3, 3, 1, 1, 3])\n",
      "tensor([2, 4, 0, 3, 1, 3, 3, 1, 1, 3])\n",
      "torch.Size([875, 5])\n",
      "0.8856865086943118\n",
      "0.8670578647077098\n"
     ]
    }
   ],
   "source": [
    "# eval on trte data\n",
    "test_inputs=H_encoded_te_view1\n",
    "test_targets=labels_trte_tensor\n",
    "\n",
    "outputs, _ = snn(test_inputs)\n",
    "outputs = outputs.mean(dim=0)  # average over time steps\n",
    "_, predictions = torch.max(outputs, 1)\n",
    "\n",
    "test_accuracy = (predictions == test_targets).float().mean().item()\n",
    "print(\"Testing Accuracy:\", test_accuracy)\n",
    "\n",
    "# sample\n",
    "print(predictions[:10])\n",
    "print(test_targets[:10])\n",
    "# print(outputs[:10])\n",
    "\n",
    "print(outputs.shape)\n",
    "\n",
    "from sklearn.metrics import f1_score\n",
    "#f1 weighted\n",
    "f1 = f1_score(test_targets, predictions, average='weighted')\n",
    "print(f1)\n",
    "#f1 macro\n",
    "f1 = f1_score(test_targets, predictions, average='macro')\n",
    "print(f1)\n",
    "\n"
   ]
  }
 ],
 "metadata": {
  "kernelspec": {
   "display_name": ".env",
   "language": "python",
   "name": "python3"
  },
  "language_info": {
   "codemirror_mode": {
    "name": "ipython",
    "version": 3
   },
   "file_extension": ".py",
   "mimetype": "text/x-python",
   "name": "python",
   "nbconvert_exporter": "python",
   "pygments_lexer": "ipython3",
   "version": "3.9.6"
  }
 },
 "nbformat": 4,
 "nbformat_minor": 2
}
