{
 "cells": [
  {
   "cell_type": "code",
   "execution_count": 1,
   "metadata": {},
   "outputs": [],
   "source": [
    "import torch\n",
    "import torch.nn as nn\n",
    "import torch.optim as optim\n",
    "import snntorch as snn\n",
    "from snntorch import surrogate\n",
    "from snntorch import spikegen\n",
    "\n",
    "from smogoutils import get_all_data_adj, compute_spiking_node_representation as csnr"
   ]
  },
  {
   "cell_type": "code",
   "execution_count": 2,
   "metadata": {},
   "outputs": [],
   "source": [
    "# class SimpleSNN(nn.Module):\n",
    "#     def __init__(self, input_size, hidden_size, output_size):\n",
    "#         super(SimpleSNN, self).__init__()\n",
    "#         self.fc1 = nn.Linear(input_size, hidden_size)\n",
    "#         self.bn1 = nn.BatchNorm1d(hidden_size)\n",
    "#         self.lif1 = snn.Leaky(beta=0.9, spike_grad=surrogate.fast_sigmoid())\n",
    "#         self.fc2 = nn.Linear(hidden_size, output_size)\n",
    "#         self.bn2 = nn.BatchNorm1d(output_size)\n",
    "#         self.lif2 = snn.Leaky(beta=0.9, spike_grad=surrogate.fast_sigmoid())\n",
    "        \n",
    "#         # Weight initialization\n",
    "#         nn.init.xavier_uniform_(self.fc1.weight)\n",
    "#         nn.init.xavier_uniform_(self.fc2.weight)\n",
    "\n",
    "#     def forward(self, x):\n",
    "#         spk_rec = []\n",
    "#         mem_rec = []\n",
    "#         mem1 = self.lif1.init_leaky()\n",
    "#         mem2 = self.lif2.init_leaky()\n",
    "\n",
    "#         for step in range(x.size(0)):\n",
    "#             cur1 = self.fc1(x[step])\n",
    "#             cur1 = self.bn1(cur1)\n",
    "#             spk1, mem1 = self.lif1(cur1, mem1)\n",
    "#             cur2 = self.fc2(spk1)\n",
    "#             cur2 = self.bn2(cur2)\n",
    "#             spk2, mem2 = self.lif2(cur2, mem2)\n",
    "#             spk_rec.append(spk2)\n",
    "#             mem_rec.append(mem2)\n",
    "\n",
    "#         return torch.stack(spk_rec), torch.stack(mem_rec)\n",
    "\n",
    "from smogomodels import SMOGOGCN as SimpleSNN\n"
   ]
  },
  {
   "cell_type": "code",
   "execution_count": 3,
   "metadata": {},
   "outputs": [
    {
     "name": "stderr",
     "output_type": "stream",
     "text": [
      "/Users/gabriquaranta/repos/GU01-bioinspired-spatial-data/SMOGONET/smogoutils.py:120: UserWarning: torch.sparse.SparseTensor(indices, values, shape, *, device=) is deprecated.  Please use torch.sparse_coo_tensor(indices, values, shape, dtype=, device=). (Triggered internally at /Users/runner/work/pytorch/pytorch/pytorch/torch/csrc/utils/tensor_new.cpp:623.)\n",
      "  return sparse_tensortype(indices, values, x.size())\n"
     ]
    }
   ],
   "source": [
    "data_folder = \"BRCA\"\n",
    "view_list = [1, 2, 3]\n",
    "num_class = 5\n",
    "\n",
    "(\n",
    "    data_tr_list,\n",
    "    data_trte_list,\n",
    "    trte_idx,\n",
    "    labels_trte,\n",
    "    labels_tr_tensor,\n",
    "    onehot_labels_tr_tensor,\n",
    "    adj_tr_list,\n",
    "    adj_te_list,\n",
    "    dim_list,\n",
    ") = get_all_data_adj(\n",
    "    data_folder,\n",
    "    view_list,\n",
    "    num_class,\n",
    ")"
   ]
  },
  {
   "cell_type": "code",
   "execution_count": 4,
   "metadata": {},
   "outputs": [],
   "source": [
    "K = 3\n",
    "num_steps = 100\n",
    "\n",
    "H_tr_v1 = csnr(data_tr_list[0], adj_tr_list[0], K, num_steps)\n",
    "H_tr_v2 = csnr(data_tr_list[1], adj_tr_list[1], K, num_steps)\n",
    "H_tr_v3 = csnr(data_tr_list[2], adj_tr_list[2], K, num_steps)\n",
    "\n",
    "H_trte_v1 = csnr(data_trte_list[0], adj_te_list[0], K, num_steps)\n",
    "H_trte_v2 = csnr(data_trte_list[1], adj_te_list[1], K, num_steps)\n",
    "H_trte_v3 = csnr(data_trte_list[2], adj_te_list[2], K, num_steps)\n",
    "\n",
    "H_te_v1=H_trte_v1\n",
    "H_te_v2=H_trte_v2\n",
    "H_te_v3=H_trte_v3\n",
    "\n",
    "labels_tr=labels_tr_tensor\n",
    "labels_trte_tensor = torch.tensor(labels_trte)\n",
    "labels_te=labels_trte_tensor[trte_idx['te']]"
   ]
  },
  {
   "cell_type": "code",
   "execution_count": 5,
   "metadata": {},
   "outputs": [
    {
     "name": "stdout",
     "output_type": "stream",
     "text": [
      "torch.Size([100, 612, 1000]) torch.Size([100, 612, 1000]) torch.Size([100, 612, 503])\n",
      "torch.Size([100, 875, 1000]) torch.Size([100, 875, 1000]) torch.Size([100, 875, 503])\n",
      "torch.Size([612]) torch.Size([875]) torch.Size([263])\n"
     ]
    }
   ],
   "source": [
    "print(H_tr_v1.shape, H_tr_v2.shape, H_tr_v3.shape)\n",
    "print(H_trte_v1.shape, H_trte_v2.shape, H_trte_v3.shape)\n",
    "print(labels_tr.shape, labels_trte_tensor.shape, labels_te.shape)"
   ]
  },
  {
   "cell_type": "code",
   "execution_count": 6,
   "metadata": {},
   "outputs": [],
   "source": [
    "hidden_size = 50  # neurons in the hidden layer\n",
    "output_size = 5  # output classes\n",
    "num_steps = 100  # time steps\n",
    "num_epochs = 100  "
   ]
  },
  {
   "cell_type": "code",
   "execution_count": 7,
   "metadata": {},
   "outputs": [
    {
     "name": "stdout",
     "output_type": "stream",
     "text": [
      "Epoch 10/100, Loss: 1.1196715831756592\n",
      "Epoch 20/100, Loss: 1.0645732879638672\n",
      "Epoch 30/100, Loss: 1.038413643836975\n",
      "Epoch 40/100, Loss: 1.0139058828353882\n",
      "Epoch 50/100, Loss: 0.9938926696777344\n",
      "Epoch 60/100, Loss: 0.9787880778312683\n",
      "Epoch 70/100, Loss: 0.966449499130249\n",
      "Epoch 80/100, Loss: 0.9573761224746704\n",
      "Epoch 90/100, Loss: 0.9503357410430908\n",
      "Epoch 100/100, Loss: 0.9451058506965637\n"
     ]
    }
   ],
   "source": [
    "#snn1\n",
    "inputs=H_tr_v1\n",
    "targets=labels_tr\n",
    "\n",
    "snn1 = SimpleSNN(inputs.shape[2], hidden_size, output_size)\n",
    "optimizer = optim.Adam(snn1.parameters(), lr=0.01)\n",
    "loss_fn = nn.CrossEntropyLoss()\n",
    "\n",
    "for epoch in range(num_epochs):\n",
    "    optimizer.zero_grad()\n",
    "    outputs, _ = snn1(inputs)\n",
    "    outputs = outputs.mean(dim=0)  # average over time steps\n",
    "\n",
    "    loss = loss_fn(outputs, targets)\n",
    "    loss.backward()\n",
    "    optimizer.step()\n",
    "\n",
    "    if (epoch + 1) % 10 == 0:\n",
    "        print(f'Epoch {epoch + 1}/{num_epochs}, Loss: {loss.item()}')"
   ]
  },
  {
   "cell_type": "code",
   "execution_count": 8,
   "metadata": {},
   "outputs": [
    {
     "name": "stdout",
     "output_type": "stream",
     "text": [
      "Epoch 10/100, Loss: 1.1896507740020752\n",
      "Epoch 20/100, Loss: 1.1206048727035522\n",
      "Epoch 30/100, Loss: 1.0867419242858887\n",
      "Epoch 40/100, Loss: 1.0621848106384277\n",
      "Epoch 50/100, Loss: 1.0436464548110962\n",
      "Epoch 60/100, Loss: 1.0302352905273438\n",
      "Epoch 70/100, Loss: 1.015643835067749\n",
      "Epoch 80/100, Loss: 0.9956215023994446\n",
      "Epoch 90/100, Loss: 0.9785406589508057\n",
      "Epoch 100/100, Loss: 0.9685261845588684\n"
     ]
    }
   ],
   "source": [
    "#snn2\n",
    "inputs=H_tr_v2\n",
    "targets=labels_tr\n",
    "\n",
    "snn2 = SimpleSNN(inputs.shape[2], hidden_size, output_size)\n",
    "optimizer = optim.Adam(snn2.parameters(), lr=0.01)\n",
    "loss_fn = nn.CrossEntropyLoss()\n",
    "\n",
    "for epoch in range(num_epochs):\n",
    "    optimizer.zero_grad()\n",
    "    outputs, _ = snn2(inputs)\n",
    "    outputs = outputs.mean(dim=0)  # average over time steps\n",
    "\n",
    "    loss = loss_fn(outputs, targets)\n",
    "    loss.backward()\n",
    "    optimizer.step()\n",
    "\n",
    "    if (epoch + 1) % 10 == 0:\n",
    "        print(f'Epoch {epoch + 1}/{num_epochs}, Loss: {loss.item()}')"
   ]
  },
  {
   "cell_type": "code",
   "execution_count": 9,
   "metadata": {},
   "outputs": [
    {
     "name": "stdout",
     "output_type": "stream",
     "text": [
      "Epoch 10/100, Loss: 1.210241675376892\n",
      "Epoch 20/100, Loss: 1.1344162225723267\n",
      "Epoch 30/100, Loss: 1.0945888757705688\n",
      "Epoch 40/100, Loss: 1.0698878765106201\n",
      "Epoch 50/100, Loss: 1.0501703023910522\n",
      "Epoch 60/100, Loss: 1.0348299741744995\n",
      "Epoch 70/100, Loss: 1.022658109664917\n",
      "Epoch 80/100, Loss: 1.0117430686950684\n",
      "Epoch 90/100, Loss: 1.0030217170715332\n",
      "Epoch 100/100, Loss: 0.9953594207763672\n"
     ]
    }
   ],
   "source": [
    "#snn3\n",
    "inputs=H_tr_v3\n",
    "targets=labels_tr\n",
    "snn3 = SimpleSNN(inputs.shape[2], hidden_size, output_size)\n",
    "optimizer = optim.Adam(snn3.parameters(), lr=0.01)\n",
    "loss_fn = nn.CrossEntropyLoss()\n",
    "\n",
    "for epoch in range(num_epochs):\n",
    "    optimizer.zero_grad()\n",
    "    outputs, _ = snn3(inputs)\n",
    "    outputs = outputs.mean(dim=0)  # average over time steps\n",
    "\n",
    "    loss = loss_fn(outputs, targets)\n",
    "    loss.backward()\n",
    "    optimizer.step()\n",
    "\n",
    "    if (epoch + 1) % 10 == 0:\n",
    "        print(f'Epoch {epoch + 1}/{num_epochs}, Loss: {loss.item()}')"
   ]
  },
  {
   "cell_type": "code",
   "execution_count": 10,
   "metadata": {},
   "outputs": [],
   "source": [
    "idx_te = trte_idx['te']\n",
    "labels_te = labels_trte_tensor[idx_te]"
   ]
  },
  {
   "cell_type": "code",
   "execution_count": 11,
   "metadata": {},
   "outputs": [
    {
     "name": "stdout",
     "output_type": "stream",
     "text": [
      "Test accuracy of SNN1 trte: 0.8697142857142857\n",
      "Test accuracy of SNN1 te: 0.8631178707224335\n"
     ]
    }
   ],
   "source": [
    "# eval snn1\n",
    "inputs=H_te_v1\n",
    "targets=labels_trte_tensor\n",
    "\n",
    "outputs1s, _ = snn1(inputs)\n",
    "outputs1 = outputs1s.mean(dim=0) \n",
    "_, predicted1 = torch.max(outputs1, 1)\n",
    "\n",
    "test_acc1 = (predicted1 == targets).sum().item() / targets.size(0)\n",
    "print(f'Test accuracy of SNN1 trte: {test_acc1}')\n",
    "\n",
    "# eval snn1 te\n",
    "outputs1_te=outputs1[idx_te]\n",
    "predicted1_te=predicted1[idx_te]\n",
    "\n",
    "test_acc1_te = (predicted1_te == labels_te).sum().item() / labels_te.size(0)\n",
    "print(f'Test accuracy of SNN1 te: {test_acc1_te}')"
   ]
  },
  {
   "cell_type": "code",
   "execution_count": 12,
   "metadata": {},
   "outputs": [
    {
     "name": "stdout",
     "output_type": "stream",
     "text": [
      "Test accuracy of SNN2 trte: 0.8011428571428572\n",
      "Test accuracy of SNN2 te: 0.7642585551330798\n"
     ]
    }
   ],
   "source": [
    "# eval snn2 trte\n",
    "inputs=H_te_v2\n",
    "# targets=labels_trte_tensor\n",
    "\n",
    "outputs2s, _ = snn2(inputs)\n",
    "outputs2 = outputs2s.mean(dim=0)\n",
    "_, predicted2 = torch.max(outputs2, 1)\n",
    "\n",
    "test_acc2 = (predicted2 == targets).sum().item() / targets.size(0)\n",
    "print(f'Test accuracy of SNN2 trte: {test_acc2}')\n",
    "\n",
    "# eval snn2 te\n",
    "outputs2_te=outputs2[idx_te]\n",
    "predicted2_te=predicted2[idx_te]\n",
    "\n",
    "test_acc2_te = (predicted2_te == labels_te).sum().item() / labels_te.size(0)\n",
    "print(f'Test accuracy of SNN2 te: {test_acc2_te}')"
   ]
  },
  {
   "cell_type": "code",
   "execution_count": 13,
   "metadata": {},
   "outputs": [
    {
     "name": "stdout",
     "output_type": "stream",
     "text": [
      "Test accuracy of SNN3: 0.7737142857142857\n",
      "Test accuracy of SNN3 te: 0.7262357414448669\n"
     ]
    }
   ],
   "source": [
    "# eval snn3\n",
    "inputs=H_te_v3\n",
    "# targets=labels_trte_tensor\n",
    "\n",
    "outputs3s, _ = snn3(inputs)\n",
    "outputs3 = outputs3s.mean(dim=0)\n",
    "_, predicted3 = torch.max(outputs3, 1)\n",
    "\n",
    "test_acc3 = (predicted3 == targets).sum().item() / targets.size(0)\n",
    "print(f'Test accuracy of SNN3: {test_acc3}')\n",
    "\n",
    "# eval snn3 te\n",
    "outputs3_te=outputs3[idx_te]\n",
    "predicted3_te=predicted3[idx_te]\n",
    "\n",
    "test_acc3_te = (predicted3_te == labels_te).sum().item() / labels_te.size(0)\n",
    "print(f'Test accuracy of SNN3 te: {test_acc3_te}')"
   ]
  },
  {
   "cell_type": "code",
   "execution_count": 14,
   "metadata": {},
   "outputs": [
    {
     "name": "stdout",
     "output_type": "stream",
     "text": [
      "Test accuracy of SNN_avg trte: 0.8617142857142858\n",
      "Test accuracy of SNN_avg te: 0.8250950570342205\n"
     ]
    }
   ],
   "source": [
    "# combined avg trte\n",
    "outputs_avg = (outputs1 + outputs2 + outputs3) / 3\n",
    "_, predicted_avg = torch.max(outputs_avg, 1)\n",
    "\n",
    "test_acc_avg = (predicted_avg == targets).sum().item() / targets.size(0)\n",
    "print(f'Test accuracy of SNN_avg trte: {test_acc_avg}')\n",
    "\n",
    "# combined avg te\n",
    "outputs_avg_te = (outputs1_te + outputs2_te + outputs3_te) / 3\n",
    "_, predicted_avg_te = torch.max(outputs_avg_te, 1)\n",
    "\n",
    "test_acc_avg_te = (predicted_avg_te == labels_te).sum().item() / labels_te.size(0)\n",
    "print(f'Test accuracy of SNN_avg te: {test_acc_avg_te}')"
   ]
  },
  {
   "cell_type": "code",
   "execution_count": 15,
   "metadata": {},
   "outputs": [
    {
     "name": "stdout",
     "output_type": "stream",
     "text": [
      "torch.Size([100, 875, 5]) torch.Size([100, 875, 5]) torch.Size([100, 875, 5])\n",
      "tensor([[1., 0., 0., 0., 0.],\n",
      "        [0., 0., 0., 1., 0.],\n",
      "        [0., 1., 1., 0., 0.],\n",
      "        ...,\n",
      "        [0., 0., 0., 0., 1.],\n",
      "        [0., 1., 0., 0., 1.],\n",
      "        [0., 0., 0., 1., 0.]], grad_fn=<SelectBackward0>) tensor([[0., 1., 0., 0., 0.],\n",
      "        [1., 0., 0., 0., 0.],\n",
      "        [0., 1., 0., 0., 1.],\n",
      "        ...,\n",
      "        [0., 0., 0., 0., 1.],\n",
      "        [0., 0., 0., 1., 0.],\n",
      "        [0., 0., 0., 0., 1.]], grad_fn=<SelectBackward0>) tensor([[0., 0., 0., 0., 0.],\n",
      "        [0., 0., 0., 1., 0.],\n",
      "        [0., 0., 0., 1., 0.],\n",
      "        ...,\n",
      "        [0., 0., 0., 0., 0.],\n",
      "        [0., 0., 0., 1., 0.],\n",
      "        [0., 0., 0., 0., 1.]], grad_fn=<SelectBackward0>)\n"
     ]
    }
   ],
   "source": [
    "output_spikes=[outputs1s, outputs2s, outputs3s]\n",
    "\n",
    "print(output_spikes[0].shape, output_spikes[1].shape, output_spikes[2].shape)\n",
    "\n",
    "print(outputs1s[0], outputs2s[0], outputs3s[0])  # cant be usend to create cross correlatoin matrix directly?"
   ]
  },
  {
   "cell_type": "code",
   "execution_count": 16,
   "metadata": {},
   "outputs": [
    {
     "name": "stdout",
     "output_type": "stream",
     "text": [
      "after outer product torch.Size([875, 125, 1])\n",
      "torch.Size([875, 125])\n",
      "torch.Size([100, 875, 125])\n"
     ]
    }
   ],
   "source": [
    "in_list=[outputs1.detach(), outputs2.detach(), outputs3.detach()]\n",
    "num_view=3\n",
    "num_cls=5\n",
    "\n",
    "for i in range(num_view):\n",
    "    in_list[i] = torch.sigmoid(in_list[i])\n",
    "\n",
    "\n",
    "x = torch.reshape(\n",
    "    torch.matmul(in_list[0].unsqueeze(-1), in_list[1].unsqueeze(1)),\n",
    "    (-1, pow(num_cls, 2), 1),\n",
    ")\n",
    "\n",
    "\n",
    "x = torch.reshape(\n",
    "    torch.matmul(x, in_list[2].unsqueeze(1)),\n",
    "    (-1, pow(num_cls, 3), 1),\n",
    ")\n",
    "print(\"after outer product\", x.shape)\n",
    "\n",
    "vcdn_feat = torch.reshape(x, (-1, pow(num_cls, num_view)))\n",
    "\n",
    "print(vcdn_feat.shape)\n",
    "\n",
    "vcdn_input_spike_encoding= spikegen.rate(vcdn_feat,100)\n",
    "\n",
    "print(vcdn_input_spike_encoding.shape)\n"
   ]
  },
  {
   "cell_type": "code",
   "execution_count": 17,
   "metadata": {},
   "outputs": [],
   "source": [
    "# class SimpleSNN_VCDN(nn.Module):\n",
    "#     def __init__(self, input_size, hidden_size, output_size):\n",
    "#         super(SimpleSNN_VCDN, self).__init__()\n",
    "#         self.fc1 = nn.Linear(input_size, hidden_size)\n",
    "#         self.bn1 = nn.BatchNorm1d(hidden_size)\n",
    "#         self.lif1 = snn.Leaky(beta=0.9, spike_grad=surrogate.fast_sigmoid())\n",
    "#         self.fc2 = nn.Linear(hidden_size, output_size)\n",
    "#         self.bn2 = nn.BatchNorm1d(output_size)\n",
    "#         self.lif2 = snn.Leaky(beta=0.9, spike_grad=surrogate.fast_sigmoid())\n",
    "        \n",
    "#         # Weight initialization\n",
    "#         nn.init.xavier_uniform_(self.fc1.weight)\n",
    "#         nn.init.xavier_uniform_(self.fc2.weight)\n",
    "\n",
    "#     def forward(self, x):\n",
    "#         spk_rec = []\n",
    "#         mem_rec = []\n",
    "#         mem1 = self.lif1.init_leaky()\n",
    "#         mem2 = self.lif2.init_leaky()\n",
    "\n",
    "#         for step in range(x.size(0)):\n",
    "#             cur1 = self.fc1(x[step])\n",
    "#             cur1 = self.bn1(cur1)\n",
    "#             spk1, mem1 = self.lif1(cur1, mem1)\n",
    "#             cur2 = self.fc2(spk1)\n",
    "#             cur2 = self.bn2(cur2)\n",
    "#             spk2, mem2 = self.lif2(cur2, mem2)\n",
    "#             spk_rec.append(spk2)\n",
    "#             mem_rec.append(mem2)\n",
    "\n",
    "#         return torch.stack(spk_rec), torch.stack(mem_rec)\n",
    "    \n",
    "from smogomodels import SMOGOVCDN as SimpleSNN_VCDN"
   ]
  },
  {
   "cell_type": "code",
   "execution_count": 18,
   "metadata": {},
   "outputs": [
    {
     "name": "stdout",
     "output_type": "stream",
     "text": [
      "Epoch 10/100, Loss: 1.1490455865859985\n",
      "Epoch 20/100, Loss: 1.084875226020813\n",
      "Epoch 30/100, Loss: 1.0583386421203613\n",
      "Epoch 40/100, Loss: 1.0466694831848145\n",
      "Epoch 50/100, Loss: 1.0397849082946777\n",
      "Epoch 60/100, Loss: 1.0357261896133423\n",
      "Epoch 70/100, Loss: 1.032678484916687\n",
      "Epoch 80/100, Loss: 1.0299639701843262\n",
      "Epoch 90/100, Loss: 1.0276787281036377\n",
      "Epoch 100/100, Loss: 1.026084303855896\n",
      "Accuracy of VCDN: 0.9017142857142857\n",
      "Accuracy of VCDN te: 0.8935361216730038\n"
     ]
    }
   ],
   "source": [
    "inputs_vcdn=vcdn_input_spike_encoding\n",
    "targets_vcdn=labels_trte_tensor\n",
    "num_epochs=100\n",
    "\n",
    "snn_vcdn = SimpleSNN_VCDN(inputs_vcdn.shape[2], 50, 5)\n",
    "optimizer = optim.Adam(snn_vcdn.parameters(), lr=0.01)\n",
    "loss_fn = nn.CrossEntropyLoss()\n",
    "\n",
    "for epoch in range(num_epochs):\n",
    "    optimizer.zero_grad()\n",
    "    outputs, _ = snn_vcdn(inputs_vcdn)\n",
    "    outputs = outputs.mean(dim=0)  # average over time steps\n",
    "\n",
    "    loss = loss_fn(outputs, targets_vcdn)\n",
    "    loss.backward()\n",
    "    optimizer.step()\n",
    "\n",
    "    if (epoch + 1) % 10 == 0:\n",
    "        print(f'Epoch {epoch + 1}/{num_epochs}, Loss: {loss.item()}')\n",
    "\n",
    "outputs_vcdn, _ = snn_vcdn(inputs_vcdn)\n",
    "accuracy=(torch.argmax(outputs_vcdn.mean(dim=0), dim=1) == targets_vcdn).sum().item() / targets_vcdn.size(0)\n",
    "print(f'Accuracy of VCDN: {accuracy}')\n",
    "\n",
    "accuracy_te=(torch.argmax(outputs_vcdn.mean(dim=0)[idx_te], dim=1) == labels_te).sum().item() / labels_te.size(0)\n",
    "print(f'Accuracy of VCDN te: {accuracy_te}')"
   ]
  }
 ],
 "metadata": {
  "kernelspec": {
   "display_name": ".env",
   "language": "python",
   "name": "python3"
  },
  "language_info": {
   "codemirror_mode": {
    "name": "ipython",
    "version": 3
   },
   "file_extension": ".py",
   "mimetype": "text/x-python",
   "name": "python",
   "nbconvert_exporter": "python",
   "pygments_lexer": "ipython3",
   "version": "3.9.6"
  }
 },
 "nbformat": 4,
 "nbformat_minor": 2
}
