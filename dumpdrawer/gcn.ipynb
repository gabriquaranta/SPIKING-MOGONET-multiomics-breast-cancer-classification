{
 "cells": [
  {
   "cell_type": "markdown",
   "metadata": {},
   "source": [
    "# TF IS A GCN"
   ]
  },
  {
   "cell_type": "code",
   "execution_count": 114,
   "metadata": {},
   "outputs": [],
   "source": [
    "import torch\n",
    "import torch.nn as nn\n",
    "import torch.nn.functional as F"
   ]
  },
  {
   "cell_type": "markdown",
   "metadata": {},
   "source": [
    "## Graph Convolution"
   ]
  },
  {
   "cell_type": "code",
   "execution_count": 115,
   "metadata": {},
   "outputs": [],
   "source": [
    "class GraphConvolution(nn.Module):\n",
    "    def __init__(self, in_features, out_features):\n",
    "        super(GraphConvolution, self).__init__()\n",
    "\n",
    "        # number of input features for each node\n",
    "        self.in_features = in_features \n",
    "\n",
    "        # number of output features for each node after convolution\n",
    "        self.out_features = out_features \n",
    "\n",
    "        # learnable weights matrix of shape (in_features, out_features) used for\n",
    "        # linear transformation of input features\n",
    "        self.weight = nn.Parameter(torch.FloatTensor(in_features, out_features)) \n",
    "\n",
    "        # learnable bias vector of shape (out_features) added to output of\n",
    "        # convolution\n",
    "        self.bias = nn.Parameter(torch.FloatTensor(out_features))\n",
    "        \n",
    "        # initialize weights and bias\n",
    "        self.reset_parameters()\n",
    "\n",
    "    def reset_parameters(self):\n",
    "        #initialize weight matrix using the Xavier uniform initialization (TODO: why?)\n",
    "        nn.init.xavier_uniform_(self.weight)\n",
    "\n",
    "        #initialize bias vector to zeros\n",
    "        nn.init.zeros_(self.bias)\n",
    "\n",
    "    def forward(self, input, adj):\n",
    "        # input: input features of shape (num_nodes, in_features)\n",
    "        # adj: adjacency matrix of shape (num_nodes, num_nodes)\n",
    "        # output: covolutional features of shape (num_nodes, out_features)\n",
    "\n",
    "        # linear transformation of input features using weight matrix, output shape: (num_nodes, out_features)\n",
    "        support = torch.mm(input, self.weight)\n",
    "\n",
    "        # support tensor is multiplied by adjacency matrix.\n",
    "        # propagates the transformed features across the graph structure,\n",
    "        # allowing each node to receive/aggregate information from neighbors     \n",
    "        output = torch.mm(adj, support)\n",
    "\n",
    "        # add bias to output\n",
    "        return output + self.bias"
   ]
  },
  {
   "cell_type": "markdown",
   "metadata": {},
   "source": [
    "The crucial part of the GraphConvolution layer is **output = torch.mm(adj, support)**. \n",
    "\n",
    "This operation can be understood as follows:\n",
    "\n",
    "- For each node i, we take the i-th row of the adjacency matrix adj[i]. This row represents the connections between node i and its neighbors.\n",
    "- We multiply this row adj[i] with the support tensor, which contains the transformed features of all nodes.\n",
    "\n",
    "This multiplication effectively takes a weighted sum of the transformed features of node i and its neighbors, where the weights are determined by the adjacency matrix entries.\n",
    "\n",
    "The result is a new feature vector for node i, which incorporates information from its neighbors' features as well as its own features.\n",
    "\n",
    "By applying this operation to all nodes in the graph, the GraphConvolution layer allows information to propagate and be aggregated across the graph structure, enabling the model to learn representations that capture the graph's structural information."
   ]
  },
  {
   "cell_type": "markdown",
   "metadata": {},
   "source": [
    "## Adjacency matrix\n",
    "\n",
    "The adjacency matrix is a way to represent the connections or edges between nodes. It is a square matrix where the rows and columns correspond to the nodes in the graph.\n",
    "\n",
    "For an undirected graph with `N` nodes, the adjacency matrix `adj` has the following properties:\n",
    "\n",
    "- `adj` is an `N x N` matrix.\n",
    "- `adj[i, j]` represents the connection between node `i` and node `j`.\n",
    "- If there is an edge between node `i` and node `j`, then `adj[i, j] = adj[j, i] = 1`. Otherwise, `adj[i, j] = adj[j, i] = 0`.\n",
    "- The diagonal elements `adj[i, i]` are typically set to 0, as there are no self-connections in an undirected graph.\n",
    "\n",
    "For a weighted graph, the non-zero entries in the adjacency matrix represent the weights of the edges instead of just binary values.\n",
    "\n",
    "Here's a simple example to illustrate the adjacency matrix:\n",
    "\n",
    "Consider a graph with 5 nodes, where the edges are (0, 1), (1, 2), (2, 3), (3, 4), and (0, 4). The corresponding adjacency matrix would be:\n",
    "\n",
    "```txt\n",
    "adj = [[0, 1, 0, 0, 1],\n",
    "       [1, 0, 1, 0, 0],\n",
    "       [0, 1, 0, 1, 0],\n",
    "       [0, 0, 1, 0, 1],\n",
    "       [1, 0, 0, 1, 0]]\n",
    "```\n",
    "\n",
    "\n",
    "When performing the graph convolution operation `output = torch.mm(adj, support)` in the `GraphConvolution` layer, the adjacency matrix `adj` determines how the transformed features (`support`) of each node are aggregated from its neighbors.\n",
    "\n",
    "For example, if we consider node 0, the corresponding row in the adjacency matrix is `adj[0] = [0, 1, 0, 0, 1]`. This means that when computing the output features for node 0, the transformed features of nodes 1 and 4 will be aggregated (weighted by the adjacency matrix entries), while the features of nodes 2 and 3 will be ignored since there are no edges connecting them to node 0.\n",
    "\n",
    "By using the adjacency matrix in the `GraphConvolution` layer, the model can effectively propagate and aggregate information across the graph structure, allowing each node's representation to be influenced by its neighbors' features and the connectivity patterns in the graph.\n",
    "\n"
   ]
  },
  {
   "cell_type": "markdown",
   "metadata": {},
   "source": [
    "## Graph Convolutional Neural Network"
   ]
  },
  {
   "cell_type": "code",
   "execution_count": 116,
   "metadata": {},
   "outputs": [],
   "source": [
    "class GCN(nn.Module):\n",
    "    def __init__(self, in_features, hidden_features, out_features, dropout):\n",
    "        super(GCN, self).__init__()\n",
    "\n",
    "        # graph convolution layer 1 -> maps input features to hidden features\n",
    "        self.gc1 = GraphConvolution(in_features, hidden_features)\n",
    "\n",
    "        # graph convolution layer 2 -> maps hidden features to output features\n",
    "        self.gc2 = GraphConvolution(hidden_features, out_features)\n",
    "\n",
    "        # dropout probability for regularization\n",
    "        self.dropout = dropout\n",
    "\n",
    "    def forward(self, x, adj):\n",
    "        # x: input features of shape (num_nodes, in_features)\n",
    "        # adj: adjacency matrix of shape (num_nodes, num_nodes)\n",
    "\n",
    "        # apply graph convolution layer 1 followed by ReLU activation\n",
    "        x = F.relu(self.gc1(x, adj))\n",
    "\n",
    "        # apply dropout for regularization (only during training)\n",
    "        x = F.dropout(x, self.dropout, training=self.training)\n",
    "\n",
    "        # apply graph convolution layer 2\n",
    "        x = self.gc2(x, adj)\n",
    "\n",
    "        # log_softmax function applied to output of the second layer along\n",
    "        # dim=1, which corresponds to the output features (classes). \n",
    "        # necessary for multi-class classification -> converts output into a\n",
    "        # probability distribution over the classes\n",
    "        return F.log_softmax(x, dim=1)"
   ]
  },
  {
   "cell_type": "markdown",
   "metadata": {},
   "source": [
    "The overall flow of the GCN model is as follows:\n",
    "\n",
    "1. The **input node features x and the adjacency matrix adj are passed through the first GraphConvolution layer** (self.gc1), which applies a graph convolution operation to propagate and aggregate information across the graph structure.\n",
    "2. The **ReLU activation function is applied** to the output of the first layer, introducing non-linearity.\n",
    "3. **Dropout regularization is applied** to the output of the first layer to reduce overfitting.\n",
    "4. The **output of the first layer (after dropout) and the adjacency matrix adj are passed through the second GraphConvolution layer** (self.gc2), which further propagates and transforms the features.\n",
    "5. The **log_softmax function is applied to the output of the second layer to obtain the final class probabilities** for each node."
   ]
  },
  {
   "cell_type": "markdown",
   "metadata": {},
   "source": [
    "The key idea behind the GCN model is to leverage the graph structure (encoded in the adjacency matrix) to propagate and aggregate information across the nodes. \n",
    "\n",
    "By stacking multiple GraphConvolution layers, the model can learn increasingly complex representations that capture the structural properties of the graph, as well as the node features.\n",
    "\n",
    "The number of GraphConvolution layers, the dimensions of the hidden features, and the dropout rate are hyperparameters that can be tuned for optimal performance on a specific task and dataset."
   ]
  },
  {
   "cell_type": "markdown",
   "metadata": {},
   "source": [
    "## Dummy Example"
   ]
  },
  {
   "cell_type": "markdown",
   "metadata": {},
   "source": [
    "In the provided example, there is only a single graph with 5 nodes and their corresponding features and labels. \n",
    "\n",
    "This means that the example is not demonstrating a typical training scenario where the model is trained on multiple graphs or a large dataset.\n",
    "\n",
    "In this specific example, the GCN model is essentially trying to learn the mapping between the given node features and their corresponding labels for this single graph. It's essentially trying to overfit to this one graph instance."
   ]
  },
  {
   "cell_type": "code",
   "execution_count": 117,
   "metadata": {},
   "outputs": [],
   "source": [
    "import matplotlib.pyplot as plt"
   ]
  },
  {
   "cell_type": "code",
   "execution_count": 118,
   "metadata": {},
   "outputs": [],
   "source": [
    "# dummt data - 5 nodes, 2 features per node \n",
    "node_features = torch.tensor([[1.0, 2.0],\n",
    "                               [3.0, 4.0],\n",
    "                               [5.0, 6.0],\n",
    "                               [7.0, 8.0],\n",
    "                               [9.0, 10.0]], dtype=torch.float)\n",
    "\n",
    "# adjacency matrix\n",
    "adj = torch.tensor([[0, 1, 0, 0, 1],\n",
    "                    [1, 0, 1, 0, 0],\n",
    "                    [0, 1, 0, 1, 0],\n",
    "                    [0, 0, 1, 0, 1],\n",
    "                    [1, 0, 0, 1, 0]], dtype=torch.float)\n",
    "\n",
    "# node labels\n",
    "node_labels = torch.tensor([0, 1, 0, 1, 0], dtype=torch.long)\n"
   ]
  },
  {
   "cell_type": "code",
   "execution_count": 119,
   "metadata": {},
   "outputs": [
    {
     "name": "stdout",
     "output_type": "stream",
     "text": [
      "Loss: 0.7681187391281128\n",
      "Epoch 1, Loss: 0.3611569404602051\n",
      "Epoch 11, Loss: 1.0323330163955688\n",
      "Epoch 21, Loss: 1.886961579322815\n",
      "Epoch 31, Loss: 0.7079900503158569\n",
      "Epoch 41, Loss: 0.9449852108955383\n",
      "Epoch 51, Loss: 0.6851750612258911\n",
      "Epoch 61, Loss: 0.5900431871414185\n",
      "Epoch 71, Loss: 0.6949576139450073\n",
      "Epoch 81, Loss: 0.7261810898780823\n",
      "Epoch 91, Loss: 1.1882984638214111\n",
      "Epoch 101, Loss: 0.8680969476699829\n",
      "Epoch 111, Loss: 0.49054378271102905\n",
      "Epoch 121, Loss: 0.8468095064163208\n",
      "Epoch 131, Loss: 0.6041702032089233\n",
      "Epoch 141, Loss: 0.7014022469520569\n",
      "Epoch 151, Loss: 0.6474860310554504\n",
      "Epoch 161, Loss: 0.6730649471282959\n",
      "Epoch 171, Loss: 0.6398871541023254\n",
      "Epoch 181, Loss: 0.648102343082428\n",
      "Epoch 191, Loss: 0.6426089406013489\n",
      "Epoch 201, Loss: 0.6348651647567749\n",
      "Epoch 211, Loss: 0.610742449760437\n",
      "Epoch 221, Loss: 0.5931985974311829\n",
      "Epoch 231, Loss: 0.6433300375938416\n",
      "Epoch 241, Loss: 0.6199131608009338\n",
      "Epoch 251, Loss: 0.6152272820472717\n",
      "Epoch 261, Loss: 0.642102837562561\n",
      "Epoch 271, Loss: 0.630505383014679\n",
      "Epoch 281, Loss: 0.612415611743927\n",
      "Epoch 291, Loss: 0.6137711405754089\n",
      "Epoch 301, Loss: 0.6146081686019897\n",
      "Epoch 311, Loss: 0.6045486330986023\n",
      "Epoch 321, Loss: 0.5936709642410278\n",
      "Epoch 331, Loss: 0.594032883644104\n",
      "Epoch 341, Loss: 0.5886088013648987\n",
      "Epoch 351, Loss: 0.5896734595298767\n",
      "Epoch 361, Loss: 0.5948766469955444\n",
      "Epoch 371, Loss: 0.6677407622337341\n",
      "Epoch 381, Loss: 0.5822807550430298\n",
      "Epoch 391, Loss: 0.6042636632919312\n",
      "Epoch 401, Loss: 0.5831711888313293\n",
      "Epoch 411, Loss: 0.5880942344665527\n",
      "Epoch 421, Loss: 0.5716778039932251\n",
      "Epoch 431, Loss: 0.5711522698402405\n",
      "Epoch 441, Loss: 0.5074780583381653\n",
      "Epoch 451, Loss: 0.5686880350112915\n",
      "Epoch 461, Loss: 0.5570186972618103\n",
      "Epoch 471, Loss: 0.6334937810897827\n",
      "Epoch 481, Loss: 0.5431535840034485\n",
      "Epoch 491, Loss: 0.5522664189338684\n",
      "\n",
      "Predicted labels: [1 1 0 1 0]\n",
      "True labels: [0 1 0 1 0]\n",
      "Accuracy: 0.8\n"
     ]
    },
    {
     "data": {
      "text/plain": [
       "[<matplotlib.lines.Line2D at 0x146506b80>]"
      ]
     },
     "execution_count": 119,
     "metadata": {},
     "output_type": "execute_result"
    },
    {
     "data": {
      "image/png": "[encoded data removed]",
      "text/plain": [
       "<Figure size 640x480 with 1 Axes>"
      ]
     },
     "metadata": {},
     "output_type": "display_data"
    }
   ],
   "source": [
    "# in_features=2 -> number of input features per node\n",
    "# hidden_features=4 -> number of hidden features per node\n",
    "# out_features=2 -> number of output features per node: 2 classes so 2 output features ie 2 probabilities one for each class\n",
    "# dropout=0.5 -> dropout probability\n",
    "model = GCN(in_features=2, hidden_features=10, out_features=2, dropout=0.1)\n",
    "\n",
    "# Forward pass\n",
    "output = model(node_features, adj)\n",
    "# print(output)\n",
    "\n",
    "# Loss function\n",
    "criterion = nn.CrossEntropyLoss()\n",
    "\n",
    "# Compute the loss\n",
    "loss = criterion(output, node_labels)\n",
    "print(\"Loss:\", loss.item())\n",
    "\n",
    "# Perform backpropagation\n",
    "loss.backward()\n",
    "\n",
    "# Optimizer\n",
    "optimizer = torch.optim.Adam(model.parameters(), lr=0.01)\n",
    "\n",
    "losses = []\n",
    "\n",
    "# Training loop\n",
    "for epoch in range(500):\n",
    "    optimizer.zero_grad()\n",
    "    output = model(node_features, adj)\n",
    "    loss = criterion(output, node_labels)\n",
    "    loss.backward()\n",
    "    optimizer.step()\n",
    "    if (epoch) % 10 == 0:\n",
    "        print(f\"Epoch {epoch+1}, Loss: {loss.item()}\")\n",
    "        losses.append(loss.item())\n",
    "\n",
    "# Test the model\n",
    "output = model(node_features, adj)\n",
    "predicted_labels = output.argmax(dim=1)\n",
    "print(\"\\nPredicted labels:\", predicted_labels.numpy())\n",
    "print(\"True labels:\", node_labels.numpy())\n",
    "print(\"Accuracy:\", torch.sum(node_labels == predicted_labels).item() / len(node_labels))\n",
    "\n",
    "plt.plot(losses)"
   ]
  }
 ],
 "metadata": {
  "kernelspec": {
   "display_name": ".env",
   "language": "python",
   "name": "python3"
  },
  "language_info": {
   "codemirror_mode": {
    "name": "ipython",
    "version": 3
   },
   "file_extension": ".py",
   "mimetype": "text/x-python",
   "name": "python",
   "nbconvert_exporter": "python",
   "pygments_lexer": "ipython3",
   "version": "3.9.6"
  }
 },
 "nbformat": 4,
 "nbformat_minor": 2
}
